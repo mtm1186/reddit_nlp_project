{
 "cells": [
  {
   "cell_type": "markdown",
   "metadata": {},
   "source": [
    "# Classifying Investing Advice: A Look Into The World of A Bogle Head"
   ]
  },
  {
   "cell_type": "markdown",
   "metadata": {},
   "source": [
    "## Problem Statement"
   ]
  },
  {
   "cell_type": "markdown",
   "metadata": {},
   "source": [
    "Investing for the people is a non profit organization started by a former employee of John Bogle, the founder of Vanguard. John Bogle had a simple investing style recommending people buy mutual funds or ETFs that try to mimic the entire stock market. When buying these funds, they pay special attention to fees, and only invest in funds with low fees and expenses. Taxes are also a huge consideration. To maximize tax efficiency, investment vehicles like 401ks and IRAs are the preferred mediums. \n",
    "\n",
    "Investing for the people is looking to spread John Bogles investing advice to more people especially those who are new to investing. The executives at Investing for the people have asked their data science time to build a model that uses natuarl language processing to identify websites and message boards that share John Bogle's investing advice. Once a message or website has been identified as including the core principles of Bogle investing, Investing for the people will add it to it's approved list of financial websites. \n",
    "\n",
    "The team has been asked to test their model on Reddit where there is no dearth of investing advice. The executives want to see the model perform well before funding the roll out of the program. They want to see the model can differentiate between traditional investing advice, which can be found on r/Investing and the advice of John Bogle which can be found on r/Bogleheads. An accuracy rate of 85% has been set as the goal for the target for the team to meet. "
   ]
  },
  {
   "cell_type": "markdown",
   "metadata": {},
   "source": [
    "## Executive Summary"
   ]
  },
  {
   "cell_type": "markdown",
   "metadata": {},
   "source": [
    "Initially the team assumed it would be easy to distinguish between the two as in general r/Bogleheads focuses more on index funds or exchange traded funds (ETFs). These types of funds are essentially a basket of individual stocks that are selected to match or track the components of financial market index. Subscribers of r/Bogleheads usually reference the stock ticket symbols associated with these funds (VTI, VOO, VTSAX). We observed these symbols when looking at top occurences of words during the EDA process. Retirement Accounts such as IRA, Roth IRA and 401k also jumped out when looking at r/Bogleheads. With both of fund categories and retiremnt categories being distinguishing features of r/Bogleheads we were confident we cold acheive the target accuarcy rate of 85%. \n",
    "\n",
    "Three models were selected for production, they included a Logistic Regression Classification model and two Naive Bayes Models (Multinomial & Gaussian). The thought process here was to a have at least one model for interpreation and one for prediction. We also wanted to compare two Naive Bayes models to see which one performed better. We would include the transformers CountVectorizer and TfidfVectorizer on each of the models to generate more results as we wanted to see which combinations would work best. Including pipelines allowed us to apply a number of transformers and a final estimator. We then used GridSearchCV to test a number of different values and combinations of hyper-parameters. This would help us identify the best possible score of our models. \n",
    "\n",
    "Since the data we pulled from reddit using reddit's API we created a baseline model that was essentially 50%. We were confident our models would outperform this baseline score. Initially scoring results were in the 80%-85% and continued to climb as we adjusted the parameters of the model. However, we weren't hitting the desired goal of 85% accuracy as we were observing too many incorrect predictions. We attributed this to many of the same words and investing terms in both subreddits. There was a lot of overlap and if posts were short and only included one or two features that had a high coefficient from the other subreddit it would result in a misclassification. \n",
    "\n",
    "Our approach was to create simple models and increase the complexity as we went while tuning the parameters. This resulted in us observing an inscrease in model performance. However, we also started to observe higher variance in our models which caused us to scale back on complexity to find an ideal bias variance tradeoff. "
   ]
  },
  {
   "cell_type": "markdown",
   "metadata": {},
   "source": [
    "## Table of Contents"
   ]
  },
  {
   "cell_type": "markdown",
   "metadata": {},
   "source": [
    "[Data Collection](data-collection)\n",
    "\n",
    "[Libraries](Libraries)\n",
    "\n",
    "[Importing Data](Importing-Data)\n",
    "\n",
    "[Data Cleaning & Pre-Processing](Data-Cleaning-&-Pre-Processing)\n",
    "\n",
    "[Model Preparation](Model-Preparation)\n",
    "\n",
    "[Modeling](Modeling)\n",
    "\n",
    "[Model Selection](Model-Selection)\n",
    "\n",
    "[Model Evaluation](Model-Evaluation)\n",
    "\n",
    "[Conclusion](Conclusion)\n",
    "\n",
    "[Recommendations](Recommendations)\n",
    "\n",
    "[References](References)\n"
   ]
  },
  {
   "cell_type": "markdown",
   "metadata": {},
   "source": [
    "## Data Collection"
   ]
  },
  {
   "cell_type": "markdown",
   "metadata": {},
   "source": [
    "The data was collected from r/Bogleheads and r/Investing using the Reddit API. \n",
    "\n",
    "Because r/Ivesting is a considerably larger subreddit with over a million subscribers we only needed to pull data on two months of data to acheive our desired result of 1000 posts. r/Bogleheads is a much smaller and less popular subreddit and we had to pull data from a greater scope date. "
   ]
  },
  {
   "cell_type": "markdown",
   "metadata": {},
   "source": [
    "## Libraries "
   ]
  },
  {
   "cell_type": "code",
   "execution_count": 36,
   "metadata": {},
   "outputs": [],
   "source": [
    "import pandas as pd\n",
    "import numpy as np\n",
    "import matplotlib.pyplot as plt\n",
    "import seaborn as sns\n",
    "from sklearn.model_selection import train_test_split, cross_val_score\n",
    "from sklearn.linear_model import LogisticRegression\n",
    "from nltk.stem import WordNetLemmatizer\n",
    "from nltk.tokenize import RegexpTokenizer\n",
    "from sklearn.model_selection import train_test_split, GridSearchCV\n",
    "from sklearn.feature_extraction.text import CountVectorizer, TfidfVectorizer, TfidfTransformer\n",
    "from sklearn.pipeline import Pipeline\n",
    "from sklearn.feature_extraction import text\n",
    "from sklearn.naive_bayes import MultinomialNB\n",
    "from wordcloud import WordCloud, STOPWORDS, ImageColorGenerator\n",
    "from sklearn.naive_bayes import GaussianNB\n",
    "from sklearn.naive_bayes import MultinomialNB\n",
    "from sklearn.base import TransformerMixin\n",
    "import nltk\n",
    "import re\n",
    "import string\n",
    "from sklearn.metrics import accuracy_score\n",
    "from sklearn.metrics import confusion_matrix, roc_curve\n",
    "from sklearn.metrics import roc_auc_score"
   ]
  },
  {
   "cell_type": "markdown",
   "metadata": {},
   "source": [
    "## Importing Data"
   ]
  },
  {
   "cell_type": "code",
   "execution_count": 37,
   "metadata": {},
   "outputs": [],
   "source": [
    "df_reddit = pd.read_csv('./data/df_reddit.csv')"
   ]
  },
  {
   "cell_type": "code",
   "execution_count": 38,
   "metadata": {},
   "outputs": [
    {
     "data": {
      "text/plain": [
       "(2029, 9)"
      ]
     },
     "execution_count": 38,
     "metadata": {},
     "output_type": "execute_result"
    }
   ],
   "source": [
    "df_reddit.shape"
   ]
  },
  {
   "cell_type": "code",
   "execution_count": 39,
   "metadata": {},
   "outputs": [
    {
     "data": {
      "text/html": [
       "<div>\n",
       "<style scoped>\n",
       "    .dataframe tbody tr th:only-of-type {\n",
       "        vertical-align: middle;\n",
       "    }\n",
       "\n",
       "    .dataframe tbody tr th {\n",
       "        vertical-align: top;\n",
       "    }\n",
       "\n",
       "    .dataframe thead th {\n",
       "        text-align: right;\n",
       "    }\n",
       "</style>\n",
       "<table border=\"1\" class=\"dataframe\">\n",
       "  <thead>\n",
       "    <tr style=\"text-align: right;\">\n",
       "      <th></th>\n",
       "      <th>title</th>\n",
       "      <th>selftext</th>\n",
       "      <th>subreddit</th>\n",
       "      <th>created_utc</th>\n",
       "      <th>author</th>\n",
       "      <th>num_comments</th>\n",
       "      <th>score</th>\n",
       "      <th>is_self</th>\n",
       "      <th>timestamp</th>\n",
       "    </tr>\n",
       "  </thead>\n",
       "  <tbody>\n",
       "    <tr>\n",
       "      <th>0</th>\n",
       "      <td>Free market capitalism, I’m Gen Z and honestly...</td>\n",
       "      <td>[removed]</td>\n",
       "      <td>investing</td>\n",
       "      <td>1584573611</td>\n",
       "      <td>KellyCriterionHedged</td>\n",
       "      <td>13</td>\n",
       "      <td>0</td>\n",
       "      <td>True</td>\n",
       "      <td>2020-03-18</td>\n",
       "    </tr>\n",
       "    <tr>\n",
       "      <th>1</th>\n",
       "      <td>Tell me why I shouldn’t purchase a substantial...</td>\n",
       "      <td>[deleted]</td>\n",
       "      <td>investing</td>\n",
       "      <td>1584573629</td>\n",
       "      <td>[deleted]</td>\n",
       "      <td>10</td>\n",
       "      <td>1</td>\n",
       "      <td>True</td>\n",
       "      <td>2020-03-18</td>\n",
       "    </tr>\n",
       "    <tr>\n",
       "      <th>2</th>\n",
       "      <td>Can my 401k retirement account trigger a wash ...</td>\n",
       "      <td>Hypothetical scenario:\\n\\nI am looking to sell...</td>\n",
       "      <td>investing</td>\n",
       "      <td>1584573685</td>\n",
       "      <td>philosophytautology</td>\n",
       "      <td>9</td>\n",
       "      <td>0</td>\n",
       "      <td>True</td>\n",
       "      <td>2020-03-18</td>\n",
       "    </tr>\n",
       "    <tr>\n",
       "      <th>3</th>\n",
       "      <td>GILD.. The DD is in the link... FDA message to...</td>\n",
       "      <td>\\n\\nThe DD is in the link.. Why the fuck shou...</td>\n",
       "      <td>investing</td>\n",
       "      <td>1584573694</td>\n",
       "      <td>TawALittlePuttyTat</td>\n",
       "      <td>2</td>\n",
       "      <td>0</td>\n",
       "      <td>True</td>\n",
       "      <td>2020-03-18</td>\n",
       "    </tr>\n",
       "    <tr>\n",
       "      <th>4</th>\n",
       "      <td>Good time to invest?</td>\n",
       "      <td>Do y'all think there will be a raise in the ma...</td>\n",
       "      <td>investing</td>\n",
       "      <td>1584573941</td>\n",
       "      <td>rcmiddle</td>\n",
       "      <td>10</td>\n",
       "      <td>0</td>\n",
       "      <td>True</td>\n",
       "      <td>2020-03-18</td>\n",
       "    </tr>\n",
       "  </tbody>\n",
       "</table>\n",
       "</div>"
      ],
      "text/plain": [
       "                                               title  \\\n",
       "0  Free market capitalism, I’m Gen Z and honestly...   \n",
       "1  Tell me why I shouldn’t purchase a substantial...   \n",
       "2  Can my 401k retirement account trigger a wash ...   \n",
       "3  GILD.. The DD is in the link... FDA message to...   \n",
       "4                               Good time to invest?   \n",
       "\n",
       "                                            selftext  subreddit  created_utc  \\\n",
       "0                                          [removed]  investing   1584573611   \n",
       "1                                          [deleted]  investing   1584573629   \n",
       "2  Hypothetical scenario:\\n\\nI am looking to sell...  investing   1584573685   \n",
       "3   \\n\\nThe DD is in the link.. Why the fuck shou...  investing   1584573694   \n",
       "4  Do y'all think there will be a raise in the ma...  investing   1584573941   \n",
       "\n",
       "                 author  num_comments  score  is_self   timestamp  \n",
       "0  KellyCriterionHedged            13      0     True  2020-03-18  \n",
       "1             [deleted]            10      1     True  2020-03-18  \n",
       "2   philosophytautology             9      0     True  2020-03-18  \n",
       "3    TawALittlePuttyTat             2      0     True  2020-03-18  \n",
       "4              rcmiddle            10      0     True  2020-03-18  "
      ]
     },
     "execution_count": 39,
     "metadata": {},
     "output_type": "execute_result"
    }
   ],
   "source": [
    "df_reddit.head()"
   ]
  },
  {
   "cell_type": "code",
   "execution_count": 40,
   "metadata": {},
   "outputs": [
    {
     "data": {
      "text/html": [
       "<div>\n",
       "<style scoped>\n",
       "    .dataframe tbody tr th:only-of-type {\n",
       "        vertical-align: middle;\n",
       "    }\n",
       "\n",
       "    .dataframe tbody tr th {\n",
       "        vertical-align: top;\n",
       "    }\n",
       "\n",
       "    .dataframe thead th {\n",
       "        text-align: right;\n",
       "    }\n",
       "</style>\n",
       "<table border=\"1\" class=\"dataframe\">\n",
       "  <thead>\n",
       "    <tr style=\"text-align: right;\">\n",
       "      <th></th>\n",
       "      <th>title</th>\n",
       "      <th>selftext</th>\n",
       "      <th>subreddit</th>\n",
       "      <th>created_utc</th>\n",
       "      <th>author</th>\n",
       "      <th>num_comments</th>\n",
       "      <th>score</th>\n",
       "      <th>is_self</th>\n",
       "      <th>timestamp</th>\n",
       "    </tr>\n",
       "  </thead>\n",
       "  <tbody>\n",
       "    <tr>\n",
       "      <th>2024</th>\n",
       "      <td>Late 30's with 14 month old twins...</td>\n",
       "      <td>Hi there, we are seeing a financial advisor en...</td>\n",
       "      <td>Bogleheads</td>\n",
       "      <td>1532267202</td>\n",
       "      <td>goldy740</td>\n",
       "      <td>4</td>\n",
       "      <td>12</td>\n",
       "      <td>True</td>\n",
       "      <td>2018-07-22</td>\n",
       "    </tr>\n",
       "    <tr>\n",
       "      <th>2025</th>\n",
       "      <td>Moving money from American Funds. I need help ...</td>\n",
       "      <td>[removed]</td>\n",
       "      <td>Bogleheads</td>\n",
       "      <td>1532308550</td>\n",
       "      <td>smithfoam</td>\n",
       "      <td>0</td>\n",
       "      <td>1</td>\n",
       "      <td>True</td>\n",
       "      <td>2018-07-22</td>\n",
       "    </tr>\n",
       "    <tr>\n",
       "      <th>2026</th>\n",
       "      <td>$10k to invest - Need guidance</td>\n",
       "      <td>Hi - I had been depositing $100 every month in...</td>\n",
       "      <td>Bogleheads</td>\n",
       "      <td>1532365928</td>\n",
       "      <td>suzukiaquarian1</td>\n",
       "      <td>10</td>\n",
       "      <td>4</td>\n",
       "      <td>True</td>\n",
       "      <td>2018-07-23</td>\n",
       "    </tr>\n",
       "    <tr>\n",
       "      <th>2027</th>\n",
       "      <td>401k Advice</td>\n",
       "      <td>My plan right now is to go 100% stocks: 60% US...</td>\n",
       "      <td>Bogleheads</td>\n",
       "      <td>1532370877</td>\n",
       "      <td>neonbeanbag</td>\n",
       "      <td>5</td>\n",
       "      <td>5</td>\n",
       "      <td>True</td>\n",
       "      <td>2018-07-23</td>\n",
       "    </tr>\n",
       "    <tr>\n",
       "      <th>2028</th>\n",
       "      <td>401k Vanguard allocation advice (newbie)</td>\n",
       "      <td>Apologies in advance for my very newbie questi...</td>\n",
       "      <td>Bogleheads</td>\n",
       "      <td>1532548204</td>\n",
       "      <td>aegyo_bae</td>\n",
       "      <td>9</td>\n",
       "      <td>6</td>\n",
       "      <td>True</td>\n",
       "      <td>2018-07-25</td>\n",
       "    </tr>\n",
       "  </tbody>\n",
       "</table>\n",
       "</div>"
      ],
      "text/plain": [
       "                                                  title  \\\n",
       "2024               Late 30's with 14 month old twins...   \n",
       "2025  Moving money from American Funds. I need help ...   \n",
       "2026                     $10k to invest - Need guidance   \n",
       "2027                                        401k Advice   \n",
       "2028           401k Vanguard allocation advice (newbie)   \n",
       "\n",
       "                                               selftext   subreddit  \\\n",
       "2024  Hi there, we are seeing a financial advisor en...  Bogleheads   \n",
       "2025                                          [removed]  Bogleheads   \n",
       "2026  Hi - I had been depositing $100 every month in...  Bogleheads   \n",
       "2027  My plan right now is to go 100% stocks: 60% US...  Bogleheads   \n",
       "2028  Apologies in advance for my very newbie questi...  Bogleheads   \n",
       "\n",
       "      created_utc           author  num_comments  score  is_self   timestamp  \n",
       "2024   1532267202         goldy740             4     12     True  2018-07-22  \n",
       "2025   1532308550        smithfoam             0      1     True  2018-07-22  \n",
       "2026   1532365928  suzukiaquarian1            10      4     True  2018-07-23  \n",
       "2027   1532370877      neonbeanbag             5      5     True  2018-07-23  \n",
       "2028   1532548204        aegyo_bae             9      6     True  2018-07-25  "
      ]
     },
     "execution_count": 40,
     "metadata": {},
     "output_type": "execute_result"
    }
   ],
   "source": [
    "df_reddit.tail()"
   ]
  },
  {
   "cell_type": "markdown",
   "metadata": {},
   "source": [
    "## Data Cleaning & Preprocessing "
   ]
  },
  {
   "cell_type": "code",
   "execution_count": 41,
   "metadata": {},
   "outputs": [
    {
     "data": {
      "text/plain": [
       "title            0\n",
       "selftext        83\n",
       "subreddit        0\n",
       "created_utc      0\n",
       "author           0\n",
       "num_comments     0\n",
       "score            0\n",
       "is_self          0\n",
       "timestamp        0\n",
       "dtype: int64"
      ]
     },
     "execution_count": 41,
     "metadata": {},
     "output_type": "execute_result"
    }
   ],
   "source": [
    "df_reddit.isnull().sum()"
   ]
  },
  {
   "cell_type": "code",
   "execution_count": 42,
   "metadata": {},
   "outputs": [],
   "source": [
    "#fill null values with empty strings. Will add selftext and text columns together\n",
    "df_reddit.selftext.fillna(value='', inplace=True)"
   ]
  },
  {
   "cell_type": "code",
   "execution_count": 43,
   "metadata": {},
   "outputs": [],
   "source": [
    "#Transform target variable into a binary category r/Investing will be 1 and r/Bogleheads will be 0. \n",
    "df_reddit['target']= df_reddit['subreddit'].map({'investing': 1, 'Bogleheads':0})"
   ]
  },
  {
   "cell_type": "code",
   "execution_count": 44,
   "metadata": {},
   "outputs": [],
   "source": [
    "#drop column subreddit now that we have created a new column 'target' which will be the y variable. \n",
    "df_reddit.drop('subreddit', axis = 1, inplace = True)"
   ]
  },
  {
   "cell_type": "code",
   "execution_count": 45,
   "metadata": {},
   "outputs": [
    {
     "data": {
      "text/plain": [
       "(2029, 9)"
      ]
     },
     "execution_count": 45,
     "metadata": {},
     "output_type": "execute_result"
    }
   ],
   "source": [
    "df_reddit.shape"
   ]
  },
  {
   "cell_type": "code",
   "execution_count": 46,
   "metadata": {},
   "outputs": [],
   "source": [
    "#drop columns that will not be used in our model. The most pertinent information for our goal of predicting subreddits\n",
    "#comes from columns title and selftext \n",
    "df_reddit.drop(columns =['created_utc', 'author', 'num_comments', 'score', 'is_self',\n",
    "                         'timestamp'], axis = 1, inplace = True)"
   ]
  },
  {
   "cell_type": "code",
   "execution_count": 47,
   "metadata": {},
   "outputs": [
    {
     "data": {
      "text/plain": [
       "(2029, 3)"
      ]
     },
     "execution_count": 47,
     "metadata": {},
     "output_type": "execute_result"
    }
   ],
   "source": [
    "df_reddit.shape"
   ]
  },
  {
   "cell_type": "code",
   "execution_count": 48,
   "metadata": {},
   "outputs": [
    {
     "data": {
      "text/plain": [
       "0    0.507146\n",
       "1    0.492854\n",
       "Name: target, dtype: float64"
      ]
     },
     "execution_count": 48,
     "metadata": {},
     "output_type": "execute_result"
    }
   ],
   "source": [
    "#check value counts of the subreddits. We have balanced classes.\n",
    "df_reddit['target'].value_counts(normalize = True)"
   ]
  },
  {
   "cell_type": "code",
   "execution_count": 49,
   "metadata": {},
   "outputs": [
    {
     "data": {
      "text/plain": [
       "8"
      ]
     },
     "execution_count": 49,
     "metadata": {},
     "output_type": "execute_result"
    }
   ],
   "source": [
    "#Check for duplicates in our subreddit posts. \n",
    "df_reddit.duplicated().sum()"
   ]
  },
  {
   "cell_type": "markdown",
   "metadata": {},
   "source": [
    "Duplicate values seem to be related to posts in r/Investing where a user says they have X amount of money and they would like advice on how to invest it. One of the rules of this subreddit is these posts should be directed to r/PersonalFinance as opposed to r/Investing because they are very common and not in line with the investing strategies and approaches of the subreddit. We also observe this with Cryptocurrency advice which r/Investing moderators asked be redircted to a subreddit that has more of a focus on this asset class. "
   ]
  },
  {
   "cell_type": "code",
   "execution_count": 50,
   "metadata": {
    "scrolled": true
   },
   "outputs": [
    {
     "data": {
      "text/html": [
       "<div>\n",
       "<style scoped>\n",
       "    .dataframe tbody tr th:only-of-type {\n",
       "        vertical-align: middle;\n",
       "    }\n",
       "\n",
       "    .dataframe tbody tr th {\n",
       "        vertical-align: top;\n",
       "    }\n",
       "\n",
       "    .dataframe thead th {\n",
       "        text-align: right;\n",
       "    }\n",
       "</style>\n",
       "<table border=\"1\" class=\"dataframe\">\n",
       "  <thead>\n",
       "    <tr style=\"text-align: right;\">\n",
       "      <th></th>\n",
       "      <th>selftext</th>\n",
       "      <th>title</th>\n",
       "    </tr>\n",
       "  </thead>\n",
       "  <tbody>\n",
       "    <tr>\n",
       "      <th>497</th>\n",
       "      <td>If your question is \"I have $10,000, what do I...</td>\n",
       "      <td>Daily Advice Thread - All basic help or advice...</td>\n",
       "    </tr>\n",
       "    <tr>\n",
       "      <th>550</th>\n",
       "      <td>If your question is \"I have $10,000, what do I...</td>\n",
       "      <td>Daily Advice Thread - All basic help or advice...</td>\n",
       "    </tr>\n",
       "    <tr>\n",
       "      <th>696</th>\n",
       "      <td>If your question is \"I have $10,000, what do I...</td>\n",
       "      <td>Daily Advice Thread - All basic help or advice...</td>\n",
       "    </tr>\n",
       "    <tr>\n",
       "      <th>856</th>\n",
       "      <td>If your question is \"I have $10,000, what do I...</td>\n",
       "      <td>Daily Advice Thread - All basic help or advice...</td>\n",
       "    </tr>\n",
       "    <tr>\n",
       "      <th>226</th>\n",
       "      <td>How to calculate stock profit i tought i knew ...</td>\n",
       "      <td>Help</td>\n",
       "    </tr>\n",
       "    <tr>\n",
       "      <th>229</th>\n",
       "      <td>How to calculate stock profit i tought i knew ...</td>\n",
       "      <td>Help</td>\n",
       "    </tr>\n",
       "    <tr>\n",
       "      <th>671</th>\n",
       "      <td>I just got my fidelity account set up and I do...</td>\n",
       "      <td>Investing</td>\n",
       "    </tr>\n",
       "    <tr>\n",
       "      <th>1611</th>\n",
       "      <td>Hi guys,\\n\\nI recently opened a Roth account (...</td>\n",
       "      <td>Investing</td>\n",
       "    </tr>\n",
       "    <tr>\n",
       "      <th>562</th>\n",
       "      <td>[removed]</td>\n",
       "      <td>Pi Network Cryptocurrency</td>\n",
       "    </tr>\n",
       "    <tr>\n",
       "      <th>619</th>\n",
       "      <td>[removed]</td>\n",
       "      <td>Pi Network Cryptocurrency</td>\n",
       "    </tr>\n",
       "    <tr>\n",
       "      <th>946</th>\n",
       "      <td>[removed]</td>\n",
       "      <td>Pi Network Cryptocurrency</td>\n",
       "    </tr>\n",
       "    <tr>\n",
       "      <th>1582</th>\n",
       "      <td>I'm putting together a Vanguard portfolio for ...</td>\n",
       "      <td>Portfolio Check</td>\n",
       "    </tr>\n",
       "    <tr>\n",
       "      <th>981</th>\n",
       "      <td>[removed]</td>\n",
       "      <td>Robin hood referral</td>\n",
       "    </tr>\n",
       "    <tr>\n",
       "      <th>880</th>\n",
       "      <td>Hi I need your advise regarding on how can I h...</td>\n",
       "      <td>She Joined Pyramiding</td>\n",
       "    </tr>\n",
       "    <tr>\n",
       "      <th>570</th>\n",
       "      <td>[CNBC](https://www.cnbc.com/2020/02/18/walmart...</td>\n",
       "      <td>Walmart earnings and outlook fall short as hol...</td>\n",
       "    </tr>\n",
       "    <tr>\n",
       "      <th>698</th>\n",
       "      <td>It's back to 900 levels today in premarket. Wi...</td>\n",
       "      <td>Why has Tesla been so volatile lately?</td>\n",
       "    </tr>\n",
       "  </tbody>\n",
       "</table>\n",
       "</div>"
      ],
      "text/plain": [
       "                                               selftext  \\\n",
       "497   If your question is \"I have $10,000, what do I...   \n",
       "550   If your question is \"I have $10,000, what do I...   \n",
       "696   If your question is \"I have $10,000, what do I...   \n",
       "856   If your question is \"I have $10,000, what do I...   \n",
       "226   How to calculate stock profit i tought i knew ...   \n",
       "229   How to calculate stock profit i tought i knew ...   \n",
       "671   I just got my fidelity account set up and I do...   \n",
       "1611  Hi guys,\\n\\nI recently opened a Roth account (...   \n",
       "562                                           [removed]   \n",
       "619                                           [removed]   \n",
       "946                                           [removed]   \n",
       "1582  I'm putting together a Vanguard portfolio for ...   \n",
       "981                                           [removed]   \n",
       "880   Hi I need your advise regarding on how can I h...   \n",
       "570   [CNBC](https://www.cnbc.com/2020/02/18/walmart...   \n",
       "698   It's back to 900 levels today in premarket. Wi...   \n",
       "\n",
       "                                                  title  \n",
       "497   Daily Advice Thread - All basic help or advice...  \n",
       "550   Daily Advice Thread - All basic help or advice...  \n",
       "696   Daily Advice Thread - All basic help or advice...  \n",
       "856   Daily Advice Thread - All basic help or advice...  \n",
       "226                                                Help  \n",
       "229                                                Help  \n",
       "671                                           Investing  \n",
       "1611                                          Investing  \n",
       "562                           Pi Network Cryptocurrency  \n",
       "619                           Pi Network Cryptocurrency  \n",
       "946                           Pi Network Cryptocurrency  \n",
       "1582                                    Portfolio Check  \n",
       "981                                 Robin hood referral  \n",
       "880                               She Joined Pyramiding  \n",
       "570   Walmart earnings and outlook fall short as hol...  \n",
       "698              Why has Tesla been so volatile lately?  "
      ]
     },
     "execution_count": 50,
     "metadata": {},
     "output_type": "execute_result"
    }
   ],
   "source": [
    "#Review Duplicates to see what information they may contain\n",
    "df_reddit[df_reddit.duplicated(['title'])] [['selftext', 'title']].sort_values(by='title')"
   ]
  },
  {
   "cell_type": "code",
   "execution_count": 51,
   "metadata": {},
   "outputs": [],
   "source": [
    "df_reddit.drop_duplicates(inplace = True)"
   ]
  },
  {
   "cell_type": "code",
   "execution_count": 52,
   "metadata": {},
   "outputs": [
    {
     "data": {
      "text/plain": [
       "(2021, 3)"
      ]
     },
     "execution_count": 52,
     "metadata": {},
     "output_type": "execute_result"
    }
   ],
   "source": [
    "df_reddit.shape"
   ]
  },
  {
   "cell_type": "code",
   "execution_count": 53,
   "metadata": {},
   "outputs": [
    {
     "data": {
      "text/plain": [
       "0"
      ]
     },
     "execution_count": 53,
     "metadata": {},
     "output_type": "execute_result"
    }
   ],
   "source": [
    "df_reddit.duplicated().sum()"
   ]
  },
  {
   "cell_type": "markdown",
   "metadata": {},
   "source": [
    "Worldcloud is not data science but were produced as an image for my slideshow. However, they initially gave me an\n",
    "idea of what words would appear with the most frequency in each subreddit. "
   ]
  },
  {
   "cell_type": "code",
   "execution_count": 54,
   "metadata": {},
   "outputs": [
    {
     "data": {
      "image/png": "[encoded data removed]",
      "text/plain": [
       "<Figure size 864x432 with 1 Axes>"
      ]
     },
     "metadata": {
      "needs_background": "light"
     },
     "output_type": "display_data"
    }
   ],
   "source": [
    "wordcloud = WordCloud(max_font_size=50, max_words=100, background_color=\"black\").generate(' '.join(df_reddit['title']))\n",
    "\n",
    "# Display the generated image:\n",
    "plt.figure(figsize=(12,6))\n",
    "plt.imshow(wordcloud, interpolation='bilinear')\n",
    "plt.axis(\"off\")\n",
    "plt.show()"
   ]
  },
  {
   "cell_type": "markdown",
   "metadata": {},
   "source": [
    "Starting to identify overlap of features in the two subreddits. This is where we begin to worry about our 85% \n",
    "accuracy goal. "
   ]
  },
  {
   "cell_type": "code",
   "execution_count": 55,
   "metadata": {},
   "outputs": [
    {
     "data": {
      "image/png": "[encoded data removed]",
      "text/plain": [
       "<Figure size 864x432 with 1 Axes>"
      ]
     },
     "metadata": {
      "needs_background": "light"
     },
     "output_type": "display_data"
    }
   ],
   "source": [
    "wordcloud = WordCloud(max_font_size=50, max_words=100, background_color=\"black\").generate(' '.join(df_reddit['selftext']))\n",
    "\n",
    "# Display the generated image:\n",
    "plt.figure(figsize=(12,6))\n",
    "plt.imshow(wordcloud, interpolation='bilinear')\n",
    "plt.axis(\"off\")\n",
    "plt.show()"
   ]
  },
  {
   "cell_type": "code",
   "execution_count": 56,
   "metadata": {},
   "outputs": [],
   "source": [
    "#merge title and selftext columns together to create features column. \n",
    "df_reddit['features'] = df_reddit['title'] + ' ' + df_reddit['selftext']"
   ]
  },
  {
   "cell_type": "code",
   "execution_count": 57,
   "metadata": {},
   "outputs": [
    {
     "data": {
      "text/html": [
       "<div>\n",
       "<style scoped>\n",
       "    .dataframe tbody tr th:only-of-type {\n",
       "        vertical-align: middle;\n",
       "    }\n",
       "\n",
       "    .dataframe tbody tr th {\n",
       "        vertical-align: top;\n",
       "    }\n",
       "\n",
       "    .dataframe thead th {\n",
       "        text-align: right;\n",
       "    }\n",
       "</style>\n",
       "<table border=\"1\" class=\"dataframe\">\n",
       "  <thead>\n",
       "    <tr style=\"text-align: right;\">\n",
       "      <th></th>\n",
       "      <th>title</th>\n",
       "      <th>selftext</th>\n",
       "      <th>target</th>\n",
       "      <th>features</th>\n",
       "    </tr>\n",
       "  </thead>\n",
       "  <tbody>\n",
       "    <tr>\n",
       "      <th>0</th>\n",
       "      <td>Free market capitalism, I’m Gen Z and honestly...</td>\n",
       "      <td>[removed]</td>\n",
       "      <td>1</td>\n",
       "      <td>Free market capitalism, I’m Gen Z and honestly...</td>\n",
       "    </tr>\n",
       "    <tr>\n",
       "      <th>1</th>\n",
       "      <td>Tell me why I shouldn’t purchase a substantial...</td>\n",
       "      <td>[deleted]</td>\n",
       "      <td>1</td>\n",
       "      <td>Tell me why I shouldn’t purchase a substantial...</td>\n",
       "    </tr>\n",
       "    <tr>\n",
       "      <th>2</th>\n",
       "      <td>Can my 401k retirement account trigger a wash ...</td>\n",
       "      <td>Hypothetical scenario:\\n\\nI am looking to sell...</td>\n",
       "      <td>1</td>\n",
       "      <td>Can my 401k retirement account trigger a wash ...</td>\n",
       "    </tr>\n",
       "    <tr>\n",
       "      <th>3</th>\n",
       "      <td>GILD.. The DD is in the link... FDA message to...</td>\n",
       "      <td>\\n\\nThe DD is in the link.. Why the fuck shou...</td>\n",
       "      <td>1</td>\n",
       "      <td>GILD.. The DD is in the link... FDA message to...</td>\n",
       "    </tr>\n",
       "    <tr>\n",
       "      <th>4</th>\n",
       "      <td>Good time to invest?</td>\n",
       "      <td>Do y'all think there will be a raise in the ma...</td>\n",
       "      <td>1</td>\n",
       "      <td>Good time to invest? Do y'all think there will...</td>\n",
       "    </tr>\n",
       "  </tbody>\n",
       "</table>\n",
       "</div>"
      ],
      "text/plain": [
       "                                               title  \\\n",
       "0  Free market capitalism, I’m Gen Z and honestly...   \n",
       "1  Tell me why I shouldn’t purchase a substantial...   \n",
       "2  Can my 401k retirement account trigger a wash ...   \n",
       "3  GILD.. The DD is in the link... FDA message to...   \n",
       "4                               Good time to invest?   \n",
       "\n",
       "                                            selftext  target  \\\n",
       "0                                          [removed]       1   \n",
       "1                                          [deleted]       1   \n",
       "2  Hypothetical scenario:\\n\\nI am looking to sell...       1   \n",
       "3   \\n\\nThe DD is in the link.. Why the fuck shou...       1   \n",
       "4  Do y'all think there will be a raise in the ma...       1   \n",
       "\n",
       "                                            features  \n",
       "0  Free market capitalism, I’m Gen Z and honestly...  \n",
       "1  Tell me why I shouldn’t purchase a substantial...  \n",
       "2  Can my 401k retirement account trigger a wash ...  \n",
       "3  GILD.. The DD is in the link... FDA message to...  \n",
       "4  Good time to invest? Do y'all think there will...  "
      ]
     },
     "execution_count": 57,
     "metadata": {},
     "output_type": "execute_result"
    }
   ],
   "source": [
    "df_reddit.head()"
   ]
  },
  {
   "cell_type": "markdown",
   "metadata": {},
   "source": [
    "### Text Cleaning"
   ]
  },
  {
   "cell_type": "markdown",
   "metadata": {},
   "source": [
    "Create function to clean text. Function makes all words lowercase, strips away punctuation and hyperlinks to \n",
    "websites. Decided it would be beneficial to keep the numbers 4,0 and 1 as a popular retirement account is a 401K\n",
    "and we anticipated this to be one of the top words in our features list. Was not concerned about other numbers as most posts included numbers related to amount of money someone was investing (10k, 5k, etc.)"
   ]
  },
  {
   "cell_type": "markdown",
   "metadata": {},
   "source": [
    "RegEX Tokenizer"
   ]
  },
  {
   "cell_type": "code",
   "execution_count": 58,
   "metadata": {},
   "outputs": [],
   "source": [
    "\n",
    "def clean_str(string):\n",
    "    string = string.lower()\n",
    "    url_pattern = r'((http|ftp|https):\\/\\/)?[\\w\\-_]+(\\.[\\w\\-_]+)+([\\w\\-\\.,@?^=%&amp;:/~\\+#]*[\\w\\-\\@?^=%&amp;/~\\+#])?'\n",
    "    string = re.sub(url_pattern, ' ', string)\n",
    "    string = re.sub(r\"\\n\", \"\", string)    \n",
    "    string = re.sub(r\"\\r\", \"\", string) \n",
    "    string = re.sub(r\"[0-9]+\", \"\", string)\n",
    "    string = re.sub(r'[^\\w\\s]','', string)    \n",
    "    \n",
    "    return string.strip()"
   ]
  },
  {
   "cell_type": "code",
   "execution_count": 59,
   "metadata": {},
   "outputs": [],
   "source": [
    "#use .map to apply function to dataframe\n",
    "df_reddit['features'] = df_reddit['features'].map(clean_str)"
   ]
  },
  {
   "cell_type": "code",
   "execution_count": 60,
   "metadata": {},
   "outputs": [
    {
     "data": {
      "text/html": [
       "<div>\n",
       "<style scoped>\n",
       "    .dataframe tbody tr th:only-of-type {\n",
       "        vertical-align: middle;\n",
       "    }\n",
       "\n",
       "    .dataframe tbody tr th {\n",
       "        vertical-align: top;\n",
       "    }\n",
       "\n",
       "    .dataframe thead th {\n",
       "        text-align: right;\n",
       "    }\n",
       "</style>\n",
       "<table border=\"1\" class=\"dataframe\">\n",
       "  <thead>\n",
       "    <tr style=\"text-align: right;\">\n",
       "      <th></th>\n",
       "      <th>title</th>\n",
       "      <th>selftext</th>\n",
       "      <th>target</th>\n",
       "      <th>features</th>\n",
       "    </tr>\n",
       "  </thead>\n",
       "  <tbody>\n",
       "    <tr>\n",
       "      <th>0</th>\n",
       "      <td>Free market capitalism, I’m Gen Z and honestly...</td>\n",
       "      <td>[removed]</td>\n",
       "      <td>1</td>\n",
       "      <td>free market capitalism im gen z and honestly i...</td>\n",
       "    </tr>\n",
       "    <tr>\n",
       "      <th>1</th>\n",
       "      <td>Tell me why I shouldn’t purchase a substantial...</td>\n",
       "      <td>[deleted]</td>\n",
       "      <td>1</td>\n",
       "      <td>tell me why i shouldnt purchase a substantial ...</td>\n",
       "    </tr>\n",
       "    <tr>\n",
       "      <th>2</th>\n",
       "      <td>Can my 401k retirement account trigger a wash ...</td>\n",
       "      <td>Hypothetical scenario:\\n\\nI am looking to sell...</td>\n",
       "      <td>1</td>\n",
       "      <td>can my k retirement account trigger a wash sal...</td>\n",
       "    </tr>\n",
       "    <tr>\n",
       "      <th>3</th>\n",
       "      <td>GILD.. The DD is in the link... FDA message to...</td>\n",
       "      <td>\\n\\nThe DD is in the link.. Why the fuck shou...</td>\n",
       "      <td>1</td>\n",
       "      <td>gild the dd is in the link fda message tomorro...</td>\n",
       "    </tr>\n",
       "    <tr>\n",
       "      <th>4</th>\n",
       "      <td>Good time to invest?</td>\n",
       "      <td>Do y'all think there will be a raise in the ma...</td>\n",
       "      <td>1</td>\n",
       "      <td>good time to invest do yall think there will b...</td>\n",
       "    </tr>\n",
       "  </tbody>\n",
       "</table>\n",
       "</div>"
      ],
      "text/plain": [
       "                                               title  \\\n",
       "0  Free market capitalism, I’m Gen Z and honestly...   \n",
       "1  Tell me why I shouldn’t purchase a substantial...   \n",
       "2  Can my 401k retirement account trigger a wash ...   \n",
       "3  GILD.. The DD is in the link... FDA message to...   \n",
       "4                               Good time to invest?   \n",
       "\n",
       "                                            selftext  target  \\\n",
       "0                                          [removed]       1   \n",
       "1                                          [deleted]       1   \n",
       "2  Hypothetical scenario:\\n\\nI am looking to sell...       1   \n",
       "3   \\n\\nThe DD is in the link.. Why the fuck shou...       1   \n",
       "4  Do y'all think there will be a raise in the ma...       1   \n",
       "\n",
       "                                            features  \n",
       "0  free market capitalism im gen z and honestly i...  \n",
       "1  tell me why i shouldnt purchase a substantial ...  \n",
       "2  can my k retirement account trigger a wash sal...  \n",
       "3  gild the dd is in the link fda message tomorro...  \n",
       "4  good time to invest do yall think there will b...  "
      ]
     },
     "execution_count": 60,
     "metadata": {},
     "output_type": "execute_result"
    }
   ],
   "source": [
    "#check results of text cleaning function\n",
    "df_reddit.head()"
   ]
  },
  {
   "cell_type": "code",
   "execution_count": 61,
   "metadata": {},
   "outputs": [],
   "source": [
    "df_reddit.drop(columns =['title', 'selftext'], axis = 1, inplace = True)"
   ]
  },
  {
   "cell_type": "code",
   "execution_count": 62,
   "metadata": {},
   "outputs": [
    {
     "data": {
      "text/html": [
       "<div>\n",
       "<style scoped>\n",
       "    .dataframe tbody tr th:only-of-type {\n",
       "        vertical-align: middle;\n",
       "    }\n",
       "\n",
       "    .dataframe tbody tr th {\n",
       "        vertical-align: top;\n",
       "    }\n",
       "\n",
       "    .dataframe thead th {\n",
       "        text-align: right;\n",
       "    }\n",
       "</style>\n",
       "<table border=\"1\" class=\"dataframe\">\n",
       "  <thead>\n",
       "    <tr style=\"text-align: right;\">\n",
       "      <th></th>\n",
       "      <th>target</th>\n",
       "      <th>features</th>\n",
       "    </tr>\n",
       "  </thead>\n",
       "  <tbody>\n",
       "    <tr>\n",
       "      <th>0</th>\n",
       "      <td>1</td>\n",
       "      <td>free market capitalism im gen z and honestly i...</td>\n",
       "    </tr>\n",
       "    <tr>\n",
       "      <th>1</th>\n",
       "      <td>1</td>\n",
       "      <td>tell me why i shouldnt purchase a substantial ...</td>\n",
       "    </tr>\n",
       "    <tr>\n",
       "      <th>2</th>\n",
       "      <td>1</td>\n",
       "      <td>can my k retirement account trigger a wash sal...</td>\n",
       "    </tr>\n",
       "    <tr>\n",
       "      <th>3</th>\n",
       "      <td>1</td>\n",
       "      <td>gild the dd is in the link fda message tomorro...</td>\n",
       "    </tr>\n",
       "    <tr>\n",
       "      <th>4</th>\n",
       "      <td>1</td>\n",
       "      <td>good time to invest do yall think there will b...</td>\n",
       "    </tr>\n",
       "  </tbody>\n",
       "</table>\n",
       "</div>"
      ],
      "text/plain": [
       "   target                                           features\n",
       "0       1  free market capitalism im gen z and honestly i...\n",
       "1       1  tell me why i shouldnt purchase a substantial ...\n",
       "2       1  can my k retirement account trigger a wash sal...\n",
       "3       1  gild the dd is in the link fda message tomorro...\n",
       "4       1  good time to invest do yall think there will b..."
      ]
     },
     "execution_count": 62,
     "metadata": {},
     "output_type": "execute_result"
    }
   ],
   "source": [
    "df_reddit.head(5)"
   ]
  },
  {
   "cell_type": "markdown",
   "metadata": {},
   "source": [
    "### Lemmaitizer"
   ]
  },
  {
   "cell_type": "markdown",
   "metadata": {},
   "source": [
    "Lemmatize words to get only the base word, this may help reduce noise in our model. A word like investing or invested will become invest."
   ]
  },
  {
   "cell_type": "code",
   "execution_count": 63,
   "metadata": {},
   "outputs": [
    {
     "data": {
      "text/plain": [
       "0       [free, market, capitalism, im, gen, z, and, ho...\n",
       "1       [tell, me, why, i, shouldnt, purchase, a, subs...\n",
       "2       [can, my, k, retirement, account, trigger, a, ...\n",
       "3       [gild, the, dd, is, in, the, link, fda, messag...\n",
       "4       [good, time, to, invest, do, yall, think, ther...\n",
       "                              ...                        \n",
       "2024    [late, s, with, month, old, twin, hi, there, w...\n",
       "2025    [moving, money, from, american, fund, i, need,...\n",
       "2026    [k, to, invest, need, guidance, hi, i, had, be...\n",
       "2027    [k, advice, my, plan, right, now, is, to, go, ...\n",
       "2028    [k, vanguard, allocation, advice, newbie, apol...\n",
       "Name: features, Length: 2021, dtype: object"
      ]
     },
     "execution_count": 63,
     "metadata": {},
     "output_type": "execute_result"
    }
   ],
   "source": [
    "#Instantiate WordNetLemmatizer to get base words of words in features list\n",
    "lemmatizer = WordNetLemmatizer()\n",
    "\n",
    "def func(text):                       \n",
    "    return [lemmatizer.lemmatize(word) for word in text.split()]\n",
    "                        \n",
    "df_reddit['features'].map(func)"
   ]
  },
  {
   "cell_type": "markdown",
   "metadata": {},
   "source": [
    "### Initial Word Counts for EDA"
   ]
  },
  {
   "cell_type": "code",
   "execution_count": 64,
   "metadata": {},
   "outputs": [],
   "source": [
    "#use basic countvectorizer to get the top 20 words from the features column \n",
    "cv_test = CountVectorizer(stop_words = 'english')\n",
    "words = cv_test.fit_transform(df_reddit['features'])\n",
    "\n",
    "cv_test = pd.DataFrame(words.todense(), columns=cv_test.get_feature_names())"
   ]
  },
  {
   "cell_type": "code",
   "execution_count": 65,
   "metadata": {},
   "outputs": [],
   "source": [
    "top_total_words = cv_test.sum().sort_values().tail(20)"
   ]
  },
  {
   "cell_type": "code",
   "execution_count": 66,
   "metadata": {},
   "outputs": [
    {
     "data": {
      "image/png": "[encoded data removed]",
      "text/plain": [
       "<Figure size 720x576 with 1 Axes>"
      ]
     },
     "metadata": {
      "needs_background": "light"
     },
     "output_type": "display_data"
    }
   ],
   "source": [
    "plt.figure(figsize=(10,8))\n",
    "\n",
    "\n",
    "top_total_words.plot(kind='barh')\n",
    "plt.title('Top 20 Words in Features Column', size = 20)\n",
    "plt.xlabel('Word Count')\n",
    "plt.ylabel('Word');"
   ]
  },
  {
   "cell_type": "markdown",
   "metadata": {},
   "source": [
    "Visualizing the most frequent words that occured in both subreddits returns many common investing terms (fund, market, index, money, stock, portfolio). The stopword 'I'm' has made it through due to lack of an apostrophe by commentors. This will be added to a customized stopword list along with like and just. 00 has also occured because we removed all numbers but 0,1 & 4 (to return 401K). This is linked to retiremtnt target date funds. (VFIFX 2030, 2035, etc) The years represent the desired retirement year of an investor. "
   ]
  },
  {
   "cell_type": "markdown",
   "metadata": {},
   "source": [
    "### Word Counts by Subreddit"
   ]
  },
  {
   "cell_type": "markdown",
   "metadata": {},
   "source": [
    "First we will use countvectorizer to get a count of most frequently used words in each subreddit"
   ]
  },
  {
   "cell_type": "code",
   "execution_count": 67,
   "metadata": {},
   "outputs": [],
   "source": [
    "# Instantiate CountVectorizer. At this point in EDA we will use this to get top word counts from each of the subreddits.\n",
    "cv = CountVectorizer(analyzer = 'word',\n",
    "                             tokenizer= None ,\n",
    "                             preprocessor = None ,\n",
    "                             stop_words = 'english',\n",
    "                             max_features = 1000,\n",
    "                             ngram_range = (1,2))\n"
   ]
  },
  {
   "cell_type": "code",
   "execution_count": 68,
   "metadata": {},
   "outputs": [],
   "source": [
    "#create variable for target 1, r/investing for word count analysis \n",
    "investing = df_reddit[df_reddit['target'] == 1]['features']"
   ]
  },
  {
   "cell_type": "code",
   "execution_count": 69,
   "metadata": {},
   "outputs": [],
   "source": [
    "# fit_transform() does two things: First, it fits the model and learns the vocabulary; second, it \n",
    "#transforms our training datainto feature vectors. The input to fit_transform should be a list of strings.\n",
    "\n",
    "# Fit CountVectorizer to target data investing \n",
    "investing_words = cv.fit_transform(investing)"
   ]
  },
  {
   "cell_type": "code",
   "execution_count": 70,
   "metadata": {},
   "outputs": [],
   "source": [
    "#Transform r/investing data based on the fit CountVectorizer \n",
    "investing_words = cv.transform(investing)"
   ]
  },
  {
   "cell_type": "code",
   "execution_count": 71,
   "metadata": {},
   "outputs": [],
   "source": [
    "# Create a DataFrame with our words.\n",
    "top_investing_words = pd.DataFrame(investing_words.todense(), columns = cv.get_feature_names() )"
   ]
  },
  {
   "cell_type": "code",
   "execution_count": 72,
   "metadata": {},
   "outputs": [
    {
     "data": {
      "text/plain": [
       "market    415\n",
       "im        341\n",
       "stock     333\n",
       "like      282\n",
       "stocks    270\n",
       "dtype: int64"
      ]
     },
     "execution_count": 72,
     "metadata": {},
     "output_type": "execute_result"
    }
   ],
   "source": [
    "#return top r/investing terms \n",
    "top_investing_words.sum().sort_values(ascending = False).head()"
   ]
  },
  {
   "cell_type": "code",
   "execution_count": 73,
   "metadata": {},
   "outputs": [],
   "source": [
    "#create variable for target 0, r/Bogleheads for word count analysis \n",
    "bogleheads = df_reddit[df_reddit['target'] == 0]['features']"
   ]
  },
  {
   "cell_type": "code",
   "execution_count": 74,
   "metadata": {},
   "outputs": [],
   "source": [
    "bolge_words = cv.fit_transform(bogleheads)"
   ]
  },
  {
   "cell_type": "code",
   "execution_count": 75,
   "metadata": {},
   "outputs": [],
   "source": [
    "bolge_words = cv.transform(bogleheads)"
   ]
  },
  {
   "cell_type": "code",
   "execution_count": 76,
   "metadata": {},
   "outputs": [],
   "source": [
    "top_bogle_words = pd.DataFrame(bolge_words.todense(), columns = cv.get_feature_names() )"
   ]
  },
  {
   "cell_type": "code",
   "execution_count": 77,
   "metadata": {},
   "outputs": [
    {
     "data": {
      "text/plain": [
       "fund        997\n",
       "funds       736\n",
       "im          701\n",
       "vanguard    696\n",
       "index       617\n",
       "dtype: int64"
      ]
     },
     "execution_count": 77,
     "metadata": {},
     "output_type": "execute_result"
    }
   ],
   "source": [
    "top_bogle_words.sum().sort_values(ascending = False).head()"
   ]
  },
  {
   "cell_type": "code",
   "execution_count": 78,
   "metadata": {},
   "outputs": [],
   "source": [
    "top_20_bogle = top_bogle_words.sum().sort_values().tail(20)"
   ]
  },
  {
   "cell_type": "code",
   "execution_count": 79,
   "metadata": {},
   "outputs": [],
   "source": [
    "top_20_investing = top_investing_words.sum().sort_values().tail(20)"
   ]
  },
  {
   "cell_type": "code",
   "execution_count": 80,
   "metadata": {},
   "outputs": [
    {
     "data": {
      "image/png": "[encoded data removed]",
      "text/plain": [
       "<Figure size 1440x1152 with 2 Axes>"
      ]
     },
     "metadata": {
      "needs_background": "light"
     },
     "output_type": "display_data"
    }
   ],
   "source": [
    "#plt size\n",
    "plt.figure(figsize=(20,16))\n",
    "\n",
    "#create first sublot for r/Bogleheads\n",
    "plt.subplot(2,2,1)\n",
    "top_20_bogle.plot(kind='barh')\n",
    "plt.title('Top 20 Words in r/Bogleheads w/ CountVectorizer')\n",
    "plt.xlabel('Word Count')\n",
    "plt.ylabel('Word')\n",
    "\n",
    "#create second subpolot for r/Investing\n",
    "plt.subplot(2,2,2)\n",
    "top_20_investing.plot(kind='barh')\n",
    "plt.title('Top 20 Words in r/Investing w/ CountVectorizer')\n",
    "plt.xlabel('Word Count')\n",
    "plt.ylabel('Word');\n"
   ]
  },
  {
   "cell_type": "code",
   "execution_count": null,
   "metadata": {},
   "outputs": [],
   "source": []
  },
  {
   "cell_type": "code",
   "execution_count": 81,
   "metadata": {},
   "outputs": [],
   "source": [
    "#TF-IDF is a score that tells us which words are important to one document, relative to all other documents. \n",
    "#Words that occur often in one document but don't occur in many documents contain more predictive power."
   ]
  },
  {
   "cell_type": "code",
   "execution_count": 82,
   "metadata": {},
   "outputs": [],
   "source": [
    "#Instantiate TFIDFVectorizer \n",
    "tvec = TfidfVectorizer(analyzer = \"word\", \n",
    "                     stop_words = 'english', \n",
    "                     max_features = 1000, \n",
    "                     ngram_range = (1, 2))"
   ]
  },
  {
   "cell_type": "code",
   "execution_count": 83,
   "metadata": {},
   "outputs": [],
   "source": [
    "investing_words_tvec = tvec.fit_transform(investing)"
   ]
  },
  {
   "cell_type": "code",
   "execution_count": 84,
   "metadata": {},
   "outputs": [],
   "source": [
    "\n",
    "investing_words_tvec = tvec.transform(investing)"
   ]
  },
  {
   "cell_type": "code",
   "execution_count": 85,
   "metadata": {},
   "outputs": [],
   "source": [
    "investing_words_tvec = pd.DataFrame(investing_words_tvec.todense(), columns = tvec.get_feature_names() )"
   ]
  },
  {
   "cell_type": "code",
   "execution_count": 86,
   "metadata": {},
   "outputs": [
    {
     "data": {
      "text/plain": [
       "removed    42.044990\n",
       "market     31.704605\n",
       "stocks     31.286133\n",
       "stock      30.242848\n",
       "im         29.136360\n",
       "dtype: float64"
      ]
     },
     "execution_count": 86,
     "metadata": {},
     "output_type": "execute_result"
    }
   ],
   "source": [
    "investing_words_tvec.sum().sort_values(ascending = False).head()"
   ]
  },
  {
   "cell_type": "code",
   "execution_count": 87,
   "metadata": {},
   "outputs": [],
   "source": [
    "top_tfidf_investing = investing_words_tvec.sum().sort_values().tail(20)"
   ]
  },
  {
   "cell_type": "code",
   "execution_count": 88,
   "metadata": {},
   "outputs": [],
   "source": [
    "top_tfidf_bogle = top_bogle_words.sum().sort_values().tail(20)"
   ]
  },
  {
   "cell_type": "code",
   "execution_count": 89,
   "metadata": {},
   "outputs": [],
   "source": [
    "bolge_words_tvec = tvec.fit_transform(bogleheads)"
   ]
  },
  {
   "cell_type": "code",
   "execution_count": 90,
   "metadata": {},
   "outputs": [],
   "source": [
    "bolge_words_tvec = tvec.transform(bogleheads)"
   ]
  },
  {
   "cell_type": "code",
   "execution_count": 91,
   "metadata": {},
   "outputs": [],
   "source": [
    "top_bogle_words_tvec = pd.DataFrame(bolge_words_tvec.todense(), columns = tvec.get_feature_names() )"
   ]
  },
  {
   "cell_type": "code",
   "execution_count": 92,
   "metadata": {},
   "outputs": [
    {
     "data": {
      "text/plain": [
       "fund        53.651886\n",
       "vanguard    45.108600\n",
       "funds       43.672890\n",
       "im          40.356475\n",
       "index       38.683761\n",
       "dtype: float64"
      ]
     },
     "execution_count": 92,
     "metadata": {},
     "output_type": "execute_result"
    }
   ],
   "source": [
    "top_bogle_words_tvec.sum().sort_values(ascending = False).head(5)"
   ]
  },
  {
   "cell_type": "code",
   "execution_count": 93,
   "metadata": {},
   "outputs": [
    {
     "data": {
      "image/png": "[encoded data removed]",
      "text/plain": [
       "<Figure size 1440x1152 with 2 Axes>"
      ]
     },
     "metadata": {
      "needs_background": "light"
     },
     "output_type": "display_data"
    }
   ],
   "source": [
    "plt.figure(figsize=(20,16))\n",
    "\n",
    "plt.subplot(2,2,1)\n",
    "top_tfidf_bogle.plot(kind='barh')\n",
    "plt.title('Top 20 Words in r/Bogleheads')\n",
    "plt.xlabel('Word Count')\n",
    "plt.ylabel('Word')\n",
    "\n",
    "plt.subplot(2,2,2)\n",
    "top_tfidf_investing.plot(kind='barh')\n",
    "plt.title('Top 20 Words in r/Investing')\n",
    "plt.xlabel('Word Count')\n",
    "plt.ylabel('Word');"
   ]
  },
  {
   "cell_type": "markdown",
   "metadata": {},
   "source": [
    "After using TFIDFVectorizer to do a count of words in our features column for each subreddit we start to see terms more associated with r/Boglehead style of investing move to the top. Vanguard takes second place after fund, Vanguard is the company that Jack Bogle founded and is a leading provider in index funds and ETFs. We do not see this word appear in the top 20 in r/investing. We also see more words associoted with index funds and retirement accounts higher on the list (index, ira, roth, 401k). We also observe a specific Vanguard fund VTSAX on the list which is a total market index fund. We also observe no 2 gram words appear anywhere in the top twenty for either sub reddit. The first two gram word that appears in r/Bogleheads is index fund at position 35. No 2 gram words appear in the top 50 word count for r/investing. "
   ]
  },
  {
   "cell_type": "markdown",
   "metadata": {},
   "source": [
    "## Stopwords"
   ]
  },
  {
   "cell_type": "markdown",
   "metadata": {},
   "source": [
    "After reviewing counts of frequently occuring words in the subreddits we need to add words that we believe may reduce model performance. The words 'ive', 'dont' and'im' should have been removed in pre-processing but were not because the commentor did not include an apostrophe in their spelling. 'Removed' is a frequently occuring word in r/Investing but only because that is the word that is seen after a post is taken down by either the original poster or a moderator. "
   ]
  },
  {
   "cell_type": "code",
   "execution_count": 94,
   "metadata": {},
   "outputs": [
    {
     "data": {
      "text/plain": [
       "['i',\n",
       " 'me',\n",
       " 'my',\n",
       " 'myself',\n",
       " 'we',\n",
       " 'our',\n",
       " 'ours',\n",
       " 'ourselves',\n",
       " 'you',\n",
       " \"you're\",\n",
       " \"you've\",\n",
       " \"you'll\",\n",
       " \"you'd\",\n",
       " 'your',\n",
       " 'yours',\n",
       " 'yourself',\n",
       " 'yourselves',\n",
       " 'he',\n",
       " 'him',\n",
       " 'his',\n",
       " 'himself',\n",
       " 'she',\n",
       " \"she's\",\n",
       " 'her',\n",
       " 'hers',\n",
       " 'herself',\n",
       " 'it',\n",
       " \"it's\",\n",
       " 'its',\n",
       " 'itself',\n",
       " 'they',\n",
       " 'them',\n",
       " 'their',\n",
       " 'theirs',\n",
       " 'themselves',\n",
       " 'what',\n",
       " 'which',\n",
       " 'who',\n",
       " 'whom',\n",
       " 'this',\n",
       " 'that',\n",
       " \"that'll\",\n",
       " 'these',\n",
       " 'those',\n",
       " 'am',\n",
       " 'is',\n",
       " 'are',\n",
       " 'was',\n",
       " 'were',\n",
       " 'be',\n",
       " 'been',\n",
       " 'being',\n",
       " 'have',\n",
       " 'has',\n",
       " 'had',\n",
       " 'having',\n",
       " 'do',\n",
       " 'does',\n",
       " 'did',\n",
       " 'doing',\n",
       " 'a',\n",
       " 'an',\n",
       " 'the',\n",
       " 'and',\n",
       " 'but',\n",
       " 'if',\n",
       " 'or',\n",
       " 'because',\n",
       " 'as',\n",
       " 'until',\n",
       " 'while',\n",
       " 'of',\n",
       " 'at',\n",
       " 'by',\n",
       " 'for',\n",
       " 'with',\n",
       " 'about',\n",
       " 'against',\n",
       " 'between',\n",
       " 'into',\n",
       " 'through',\n",
       " 'during',\n",
       " 'before',\n",
       " 'after',\n",
       " 'above',\n",
       " 'below',\n",
       " 'to',\n",
       " 'from',\n",
       " 'up',\n",
       " 'down',\n",
       " 'in',\n",
       " 'out',\n",
       " 'on',\n",
       " 'off',\n",
       " 'over',\n",
       " 'under',\n",
       " 'again',\n",
       " 'further',\n",
       " 'then',\n",
       " 'once',\n",
       " 'here',\n",
       " 'there',\n",
       " 'when',\n",
       " 'where',\n",
       " 'why',\n",
       " 'how',\n",
       " 'all',\n",
       " 'any',\n",
       " 'both',\n",
       " 'each',\n",
       " 'few',\n",
       " 'more',\n",
       " 'most',\n",
       " 'other',\n",
       " 'some',\n",
       " 'such',\n",
       " 'no',\n",
       " 'nor',\n",
       " 'not',\n",
       " 'only',\n",
       " 'own',\n",
       " 'same',\n",
       " 'so',\n",
       " 'than',\n",
       " 'too',\n",
       " 'very',\n",
       " 's',\n",
       " 't',\n",
       " 'can',\n",
       " 'will',\n",
       " 'just',\n",
       " 'don',\n",
       " \"don't\",\n",
       " 'should',\n",
       " \"should've\",\n",
       " 'now',\n",
       " 'd',\n",
       " 'll',\n",
       " 'm',\n",
       " 'o',\n",
       " 're',\n",
       " 've',\n",
       " 'y',\n",
       " 'ain',\n",
       " 'aren',\n",
       " \"aren't\",\n",
       " 'couldn',\n",
       " \"couldn't\",\n",
       " 'didn',\n",
       " \"didn't\",\n",
       " 'doesn',\n",
       " \"doesn't\",\n",
       " 'hadn',\n",
       " \"hadn't\",\n",
       " 'hasn',\n",
       " \"hasn't\",\n",
       " 'haven',\n",
       " \"haven't\",\n",
       " 'isn',\n",
       " \"isn't\",\n",
       " 'ma',\n",
       " 'mightn',\n",
       " \"mightn't\",\n",
       " 'mustn',\n",
       " \"mustn't\",\n",
       " 'needn',\n",
       " \"needn't\",\n",
       " 'shan',\n",
       " \"shan't\",\n",
       " 'shouldn',\n",
       " \"shouldn't\",\n",
       " 'wasn',\n",
       " \"wasn't\",\n",
       " 'weren',\n",
       " \"weren't\",\n",
       " 'won',\n",
       " \"won't\",\n",
       " 'wouldn',\n",
       " \"wouldn't\",\n",
       " 'ive',\n",
       " '00',\n",
       " 'im',\n",
       " 'just',\n",
       " 'know',\n",
       " 'like',\n",
       " 'does',\n",
       " 'dont',\n",
       " 'like',\n",
       " 'removed']"
      ]
     },
     "execution_count": 94,
     "metadata": {},
     "output_type": "execute_result"
    }
   ],
   "source": [
    "#create custom stopwords list by creating a list and using .extend to add to the built in stopwords. \n",
    "stopwords = nltk.corpus.stopwords.words('english')\n",
    "reddit_stop_words = ['ive', '00', 'im', 'just', 'know', 'like', 'does', 'dont', 'like', 'removed',]\n",
    "stopwords.extend(reddit_stop_words)\n",
    "stopwords"
   ]
  },
  {
   "cell_type": "markdown",
   "metadata": {},
   "source": [
    "## Model Preparation "
   ]
  },
  {
   "cell_type": "code",
   "execution_count": 95,
   "metadata": {},
   "outputs": [],
   "source": [
    "#create X and y values\n",
    "y = df_reddit['target']\n",
    "X = df_reddit['features']"
   ]
  },
  {
   "cell_type": "code",
   "execution_count": 96,
   "metadata": {},
   "outputs": [
    {
     "data": {
      "text/plain": [
       "0    0.509154\n",
       "1    0.490846\n",
       "Name: target, dtype: float64"
      ]
     },
     "execution_count": 96,
     "metadata": {},
     "output_type": "execute_result"
    }
   ],
   "source": [
    "#return value count of our values \n",
    "y.value_counts(normalize = True)"
   ]
  },
  {
   "cell_type": "code",
   "execution_count": 97,
   "metadata": {},
   "outputs": [],
   "source": [
    "# creating function for classification metrics, code attributed to Sailful Hasan\n",
    "\n",
    "def classification_metric(y_test, y_pred):\n",
    "    tn, fp, fn, tp = confusion_matrix(y_test, y_pred).ravel();\n",
    "    acc = ((tp + tn)/(tp + tn + fp + fn))\n",
    "    sen = (tp /(tp+fn))\n",
    "    spec = (tn/(tn+fp))\n",
    "    pre = (tp/(tp+fp))\n",
    "    clas = 1 -acc\n",
    "    print('Classification metric:')\n",
    "    print(\"accuracy:               {:.4f} \".format(((tp + tn)/(tp + tn + fp + fn))))\n",
    "    #print(\"missclassification:     {:.4f} \".format(1 - ((tp + tn)/(tp + tn + fp + fn))))\n",
    "   # print(\"sensitivity:            {:.4f}\".format((tp /(tp+fn))))\n",
    "   # print(\"specificity:            {:.4f} \".format((tn/(tn+fp))))\n",
    "    #print(\"precise:                {:.4f} \".format((tp/(tp+fp))))"
   ]
  },
  {
   "cell_type": "markdown",
   "metadata": {},
   "source": [
    "### Test Train Split"
   ]
  },
  {
   "cell_type": "code",
   "execution_count": 98,
   "metadata": {},
   "outputs": [],
   "source": [
    "#train test split, stratify y and include a random_state for reproducibility of training and testing data. \n",
    "X_train, X_test, y_train, y_test = train_test_split(X, y,\n",
    "                                                    stratify = y,\n",
    "                                                    random_state = 42)"
   ]
  },
  {
   "cell_type": "markdown",
   "metadata": {},
   "source": [
    "## Modeling"
   ]
  },
  {
   "cell_type": "markdown",
   "metadata": {},
   "source": [
    "Model preparation included creating a baseline model in order to have an initial result from our data set to compare the other models we will be using. Before modeling we perfomed a train/test split on our dataset. \n",
    "We will be create a pipeline using either CountVectorizer or TfidfVectorizer as a transformer. The models that will be used include Logistic Regression, Gaussian Naive Bayes, and Multinomial Naive Bayes. A gridsearch will be performed on each model in attempt to identify the best parameters. Models will be assessed on their accuracy score on testing data. "
   ]
  },
  {
   "cell_type": "markdown",
   "metadata": {},
   "source": [
    "### Baseline Model"
   ]
  },
  {
   "cell_type": "markdown",
   "metadata": {},
   "source": [
    "The classes are essentially even so our baseline model is almost exactly 50%. This model will be used in the evaluation process to compare the performance of all of the other models with will be using."
   ]
  },
  {
   "cell_type": "code",
   "execution_count": 99,
   "metadata": {},
   "outputs": [
    {
     "data": {
      "text/plain": [
       "0    0.508911\n",
       "1    0.491089\n",
       "Name: target, dtype: float64"
      ]
     },
     "execution_count": 99,
     "metadata": {},
     "output_type": "execute_result"
    }
   ],
   "source": [
    "y_train.value_counts(normalize = True)"
   ]
  },
  {
   "cell_type": "markdown",
   "metadata": {},
   "source": [
    "#### Logistic Regression + CountVectorizer "
   ]
  },
  {
   "cell_type": "code",
   "execution_count": 100,
   "metadata": {},
   "outputs": [],
   "source": [
    "#Instantiate pipeline\n",
    "pipe_cv = Pipeline([\n",
    "    ('cvec', CountVectorizer()),\n",
    "    ('lr', LogisticRegression(solver = 'liblinear'))\n",
    "])\n",
    "\n",
    "\n",
    "#Define gird of parameters to GridSearch over\n",
    "pipe_params1 = {'cvec__max_features': [500, 1000], #max number of features are model will use in evaluation\n",
    "               'cvec__stop_words': [stopwords],\n",
    "               'cvec__min_df': [5],\n",
    "               'cvec__max_df': [.75],\n",
    "               'cvec__ngram_range': [(1,1), (1,2)],\n",
    "               'lr__C':[.001, 0.01, 0.1, 1]\n",
    "               } # include 1 and 2 gram words\n",
    "\n",
    "#gridSearch over pipeline with given grid of parametrs \n",
    "gs1 = GridSearchCV(pipe_cv, \n",
    "                 pipe_params1,\n",
    "                 cv=5)# 5-fold cross-validation."
   ]
  },
  {
   "cell_type": "code",
   "execution_count": 101,
   "metadata": {},
   "outputs": [
    {
     "data": {
      "text/plain": [
       "GridSearchCV(cv=5, error_score=nan,\n",
       "             estimator=Pipeline(memory=None,\n",
       "                                steps=[('cvec',\n",
       "                                        CountVectorizer(analyzer='word',\n",
       "                                                        binary=False,\n",
       "                                                        decode_error='strict',\n",
       "                                                        dtype=<class 'numpy.int64'>,\n",
       "                                                        encoding='utf-8',\n",
       "                                                        input='content',\n",
       "                                                        lowercase=True,\n",
       "                                                        max_df=1.0,\n",
       "                                                        max_features=None,\n",
       "                                                        min_df=1,\n",
       "                                                        ngram_range=(1, 1),\n",
       "                                                        preprocessor=None,\n",
       "                                                        stop_words=None,\n",
       "                                                        strip_accents=None,\n",
       "                                                        token_pattern='(?u)...\n",
       "                         'cvec__stop_words': [['i', 'me', 'my', 'myself', 'we',\n",
       "                                               'our', 'ours', 'ourselves',\n",
       "                                               'you', \"you're\", \"you've\",\n",
       "                                               \"you'll\", \"you'd\", 'your',\n",
       "                                               'yours', 'yourself',\n",
       "                                               'yourselves', 'he', 'him', 'his',\n",
       "                                               'himself', 'she', \"she's\", 'her',\n",
       "                                               'hers', 'herself', 'it', \"it's\",\n",
       "                                               'its', 'itself', ...]],\n",
       "                         'lr__C': [0.001, 0.01, 0.1, 1]},\n",
       "             pre_dispatch='2*n_jobs', refit=True, return_train_score=False,\n",
       "             scoring=None, verbose=0)"
      ]
     },
     "execution_count": 101,
     "metadata": {},
     "output_type": "execute_result"
    }
   ],
   "source": [
    "#Fit Model \n",
    "gs1.fit(X_train, y_train)"
   ]
  },
  {
   "cell_type": "code",
   "execution_count": 116,
   "metadata": {},
   "outputs": [
    {
     "name": "stdout",
     "output_type": "stream",
     "text": [
      "Training set accuracy: 0.8574\n",
      "Testing set accuracy: 0.8142\n",
      "Cross-val accuracy: 0.8244\n"
     ]
    }
   ],
   "source": [
    "print('Training set accuracy: {:.4f}'.format(gs1.score(X_train, y_train)))\n",
    "print('Testing set accuracy: {:.4f}'.format(gs1.score(X_test, y_test)))\n",
    "print('Cross-val accuracy: {:.4f}'.format(gs1.best_score_))"
   ]
  },
  {
   "cell_type": "code",
   "execution_count": 104,
   "metadata": {},
   "outputs": [
    {
     "data": {
      "text/plain": [
       "{'cvec__max_df': 0.75,\n",
       " 'cvec__max_features': 1000,\n",
       " 'cvec__min_df': 5,\n",
       " 'cvec__ngram_range': (1, 1),\n",
       " 'cvec__stop_words': ['i',\n",
       "  'me',\n",
       "  'my',\n",
       "  'myself',\n",
       "  'we',\n",
       "  'our',\n",
       "  'ours',\n",
       "  'ourselves',\n",
       "  'you',\n",
       "  \"you're\",\n",
       "  \"you've\",\n",
       "  \"you'll\",\n",
       "  \"you'd\",\n",
       "  'your',\n",
       "  'yours',\n",
       "  'yourself',\n",
       "  'yourselves',\n",
       "  'he',\n",
       "  'him',\n",
       "  'his',\n",
       "  'himself',\n",
       "  'she',\n",
       "  \"she's\",\n",
       "  'her',\n",
       "  'hers',\n",
       "  'herself',\n",
       "  'it',\n",
       "  \"it's\",\n",
       "  'its',\n",
       "  'itself',\n",
       "  'they',\n",
       "  'them',\n",
       "  'their',\n",
       "  'theirs',\n",
       "  'themselves',\n",
       "  'what',\n",
       "  'which',\n",
       "  'who',\n",
       "  'whom',\n",
       "  'this',\n",
       "  'that',\n",
       "  \"that'll\",\n",
       "  'these',\n",
       "  'those',\n",
       "  'am',\n",
       "  'is',\n",
       "  'are',\n",
       "  'was',\n",
       "  'were',\n",
       "  'be',\n",
       "  'been',\n",
       "  'being',\n",
       "  'have',\n",
       "  'has',\n",
       "  'had',\n",
       "  'having',\n",
       "  'do',\n",
       "  'does',\n",
       "  'did',\n",
       "  'doing',\n",
       "  'a',\n",
       "  'an',\n",
       "  'the',\n",
       "  'and',\n",
       "  'but',\n",
       "  'if',\n",
       "  'or',\n",
       "  'because',\n",
       "  'as',\n",
       "  'until',\n",
       "  'while',\n",
       "  'of',\n",
       "  'at',\n",
       "  'by',\n",
       "  'for',\n",
       "  'with',\n",
       "  'about',\n",
       "  'against',\n",
       "  'between',\n",
       "  'into',\n",
       "  'through',\n",
       "  'during',\n",
       "  'before',\n",
       "  'after',\n",
       "  'above',\n",
       "  'below',\n",
       "  'to',\n",
       "  'from',\n",
       "  'up',\n",
       "  'down',\n",
       "  'in',\n",
       "  'out',\n",
       "  'on',\n",
       "  'off',\n",
       "  'over',\n",
       "  'under',\n",
       "  'again',\n",
       "  'further',\n",
       "  'then',\n",
       "  'once',\n",
       "  'here',\n",
       "  'there',\n",
       "  'when',\n",
       "  'where',\n",
       "  'why',\n",
       "  'how',\n",
       "  'all',\n",
       "  'any',\n",
       "  'both',\n",
       "  'each',\n",
       "  'few',\n",
       "  'more',\n",
       "  'most',\n",
       "  'other',\n",
       "  'some',\n",
       "  'such',\n",
       "  'no',\n",
       "  'nor',\n",
       "  'not',\n",
       "  'only',\n",
       "  'own',\n",
       "  'same',\n",
       "  'so',\n",
       "  'than',\n",
       "  'too',\n",
       "  'very',\n",
       "  's',\n",
       "  't',\n",
       "  'can',\n",
       "  'will',\n",
       "  'just',\n",
       "  'don',\n",
       "  \"don't\",\n",
       "  'should',\n",
       "  \"should've\",\n",
       "  'now',\n",
       "  'd',\n",
       "  'll',\n",
       "  'm',\n",
       "  'o',\n",
       "  're',\n",
       "  've',\n",
       "  'y',\n",
       "  'ain',\n",
       "  'aren',\n",
       "  \"aren't\",\n",
       "  'couldn',\n",
       "  \"couldn't\",\n",
       "  'didn',\n",
       "  \"didn't\",\n",
       "  'doesn',\n",
       "  \"doesn't\",\n",
       "  'hadn',\n",
       "  \"hadn't\",\n",
       "  'hasn',\n",
       "  \"hasn't\",\n",
       "  'haven',\n",
       "  \"haven't\",\n",
       "  'isn',\n",
       "  \"isn't\",\n",
       "  'ma',\n",
       "  'mightn',\n",
       "  \"mightn't\",\n",
       "  'mustn',\n",
       "  \"mustn't\",\n",
       "  'needn',\n",
       "  \"needn't\",\n",
       "  'shan',\n",
       "  \"shan't\",\n",
       "  'shouldn',\n",
       "  \"shouldn't\",\n",
       "  'wasn',\n",
       "  \"wasn't\",\n",
       "  'weren',\n",
       "  \"weren't\",\n",
       "  'won',\n",
       "  \"won't\",\n",
       "  'wouldn',\n",
       "  \"wouldn't\",\n",
       "  'ive',\n",
       "  '00',\n",
       "  'im',\n",
       "  'just',\n",
       "  'know',\n",
       "  'like',\n",
       "  'does',\n",
       "  'dont',\n",
       "  'like',\n",
       "  'removed'],\n",
       " 'lr__C': 0.01}"
      ]
     },
     "execution_count": 104,
     "metadata": {},
     "output_type": "execute_result"
    }
   ],
   "source": [
    "gs1.best_params_"
   ]
  },
  {
   "cell_type": "markdown",
   "metadata": {},
   "source": [
    "This model score extremely high at 98.3% on the training data. However, the testing score was only 81.6%. A difference of 13% makes us think that this model is overfit. The hyperparameters were 'tuned'(stopwords were removed, max_df & min_df were removed) but we saw no significant difference in our results. It will be interesting to see how the tokenizer TfidfVectorizer compares to this Logistic Regression model. \n",
    "\n",
    "The model is selecting two gram features demonstrating that it can handle more complexity. "
   ]
  },
  {
   "cell_type": "markdown",
   "metadata": {},
   "source": [
    "#### Logistic Regression w/ TFIDFVectorizer"
   ]
  },
  {
   "cell_type": "code",
   "execution_count": 119,
   "metadata": {},
   "outputs": [],
   "source": [
    "#Logistic Regression Model w/ TFIDFVectorizer\n",
    "pipe_tf = Pipeline([\n",
    "    ('tvec', TfidfVectorizer()),\n",
    "    ('lr', LogisticRegression(solver = 'liblinear'))\n",
    "])\n",
    "\n",
    "\n",
    "pipe_params_tf = {'tvec__max_features': [500, 1000, 1500], #max features \n",
    "                  'tvec__stop_words': [stopwords, None], #customized stopwords list and no stopwords \n",
    "                   'tvec__ngram_range': [(1,1), (1,2)],\n",
    "                   'lr__C': [.001, 0.01, 0.1, 1],\n",
    "                   'lr__verbose': [0] \n",
    "                   }\n",
    "\n",
    "gs_tf = GridSearchCV(pipe_tf, \n",
    "                     pipe_params_tf, \n",
    "                     cv=5)"
   ]
  },
  {
   "cell_type": "code",
   "execution_count": 120,
   "metadata": {},
   "outputs": [
    {
     "data": {
      "text/plain": [
       "GridSearchCV(cv=5, error_score=nan,\n",
       "             estimator=Pipeline(memory=None,\n",
       "                                steps=[('tvec',\n",
       "                                        TfidfVectorizer(analyzer='word',\n",
       "                                                        binary=False,\n",
       "                                                        decode_error='strict',\n",
       "                                                        dtype=<class 'numpy.float64'>,\n",
       "                                                        encoding='utf-8',\n",
       "                                                        input='content',\n",
       "                                                        lowercase=True,\n",
       "                                                        max_df=1.0,\n",
       "                                                        max_features=None,\n",
       "                                                        min_df=1,\n",
       "                                                        ngram_range=(1, 1),\n",
       "                                                        norm='l2',\n",
       "                                                        preprocessor=None,\n",
       "                                                        smooth_idf=True,\n",
       "                                                        stop_words=None,\n",
       "                                                        strip_acce...\n",
       "                         'tvec__ngram_range': [(1, 1), (1, 2)],\n",
       "                         'tvec__stop_words': [['i', 'me', 'my', 'myself', 'we',\n",
       "                                               'our', 'ours', 'ourselves',\n",
       "                                               'you', \"you're\", \"you've\",\n",
       "                                               \"you'll\", \"you'd\", 'your',\n",
       "                                               'yours', 'yourself',\n",
       "                                               'yourselves', 'he', 'him', 'his',\n",
       "                                               'himself', 'she', \"she's\", 'her',\n",
       "                                               'hers', 'herself', 'it', \"it's\",\n",
       "                                               'its', 'itself', ...],\n",
       "                                              None]},\n",
       "             pre_dispatch='2*n_jobs', refit=True, return_train_score=False,\n",
       "             scoring=None, verbose=0)"
      ]
     },
     "execution_count": 120,
     "metadata": {},
     "output_type": "execute_result"
    }
   ],
   "source": [
    "#Fit Model \n",
    "gs_tf.fit(X_train, y_train)"
   ]
  },
  {
   "cell_type": "code",
   "execution_count": 122,
   "metadata": {},
   "outputs": [
    {
     "name": "stdout",
     "output_type": "stream",
     "text": [
      "Training set accuracy: 0.9023\n",
      "Testing set accuracy: 0.8221\n",
      "Cross-val accuracy: 0.8403\n"
     ]
    }
   ],
   "source": [
    "print('Training set accuracy: {:.4f}'.format(gs_tf.score(X_train, y_train)))\n",
    "print('Testing set accuracy: {:.4f}'.format(gs_tf.score(X_test, y_test)))\n",
    "print('Cross-val accuracy: {:.4f}'.format(gs_tf.best_score_))"
   ]
  },
  {
   "cell_type": "code",
   "execution_count": 124,
   "metadata": {},
   "outputs": [
    {
     "data": {
      "text/plain": [
       "{'lr__C': 1,\n",
       " 'lr__verbose': 0,\n",
       " 'tvec__max_features': 1000,\n",
       " 'tvec__ngram_range': (1, 2),\n",
       " 'tvec__stop_words': ['i',\n",
       "  'me',\n",
       "  'my',\n",
       "  'myself',\n",
       "  'we',\n",
       "  'our',\n",
       "  'ours',\n",
       "  'ourselves',\n",
       "  'you',\n",
       "  \"you're\",\n",
       "  \"you've\",\n",
       "  \"you'll\",\n",
       "  \"you'd\",\n",
       "  'your',\n",
       "  'yours',\n",
       "  'yourself',\n",
       "  'yourselves',\n",
       "  'he',\n",
       "  'him',\n",
       "  'his',\n",
       "  'himself',\n",
       "  'she',\n",
       "  \"she's\",\n",
       "  'her',\n",
       "  'hers',\n",
       "  'herself',\n",
       "  'it',\n",
       "  \"it's\",\n",
       "  'its',\n",
       "  'itself',\n",
       "  'they',\n",
       "  'them',\n",
       "  'their',\n",
       "  'theirs',\n",
       "  'themselves',\n",
       "  'what',\n",
       "  'which',\n",
       "  'who',\n",
       "  'whom',\n",
       "  'this',\n",
       "  'that',\n",
       "  \"that'll\",\n",
       "  'these',\n",
       "  'those',\n",
       "  'am',\n",
       "  'is',\n",
       "  'are',\n",
       "  'was',\n",
       "  'were',\n",
       "  'be',\n",
       "  'been',\n",
       "  'being',\n",
       "  'have',\n",
       "  'has',\n",
       "  'had',\n",
       "  'having',\n",
       "  'do',\n",
       "  'does',\n",
       "  'did',\n",
       "  'doing',\n",
       "  'a',\n",
       "  'an',\n",
       "  'the',\n",
       "  'and',\n",
       "  'but',\n",
       "  'if',\n",
       "  'or',\n",
       "  'because',\n",
       "  'as',\n",
       "  'until',\n",
       "  'while',\n",
       "  'of',\n",
       "  'at',\n",
       "  'by',\n",
       "  'for',\n",
       "  'with',\n",
       "  'about',\n",
       "  'against',\n",
       "  'between',\n",
       "  'into',\n",
       "  'through',\n",
       "  'during',\n",
       "  'before',\n",
       "  'after',\n",
       "  'above',\n",
       "  'below',\n",
       "  'to',\n",
       "  'from',\n",
       "  'up',\n",
       "  'down',\n",
       "  'in',\n",
       "  'out',\n",
       "  'on',\n",
       "  'off',\n",
       "  'over',\n",
       "  'under',\n",
       "  'again',\n",
       "  'further',\n",
       "  'then',\n",
       "  'once',\n",
       "  'here',\n",
       "  'there',\n",
       "  'when',\n",
       "  'where',\n",
       "  'why',\n",
       "  'how',\n",
       "  'all',\n",
       "  'any',\n",
       "  'both',\n",
       "  'each',\n",
       "  'few',\n",
       "  'more',\n",
       "  'most',\n",
       "  'other',\n",
       "  'some',\n",
       "  'such',\n",
       "  'no',\n",
       "  'nor',\n",
       "  'not',\n",
       "  'only',\n",
       "  'own',\n",
       "  'same',\n",
       "  'so',\n",
       "  'than',\n",
       "  'too',\n",
       "  'very',\n",
       "  's',\n",
       "  't',\n",
       "  'can',\n",
       "  'will',\n",
       "  'just',\n",
       "  'don',\n",
       "  \"don't\",\n",
       "  'should',\n",
       "  \"should've\",\n",
       "  'now',\n",
       "  'd',\n",
       "  'll',\n",
       "  'm',\n",
       "  'o',\n",
       "  're',\n",
       "  've',\n",
       "  'y',\n",
       "  'ain',\n",
       "  'aren',\n",
       "  \"aren't\",\n",
       "  'couldn',\n",
       "  \"couldn't\",\n",
       "  'didn',\n",
       "  \"didn't\",\n",
       "  'doesn',\n",
       "  \"doesn't\",\n",
       "  'hadn',\n",
       "  \"hadn't\",\n",
       "  'hasn',\n",
       "  \"hasn't\",\n",
       "  'haven',\n",
       "  \"haven't\",\n",
       "  'isn',\n",
       "  \"isn't\",\n",
       "  'ma',\n",
       "  'mightn',\n",
       "  \"mightn't\",\n",
       "  'mustn',\n",
       "  \"mustn't\",\n",
       "  'needn',\n",
       "  \"needn't\",\n",
       "  'shan',\n",
       "  \"shan't\",\n",
       "  'shouldn',\n",
       "  \"shouldn't\",\n",
       "  'wasn',\n",
       "  \"wasn't\",\n",
       "  'weren',\n",
       "  \"weren't\",\n",
       "  'won',\n",
       "  \"won't\",\n",
       "  'wouldn',\n",
       "  \"wouldn't\",\n",
       "  'ive',\n",
       "  '00',\n",
       "  'im',\n",
       "  'just',\n",
       "  'know',\n",
       "  'like',\n",
       "  'does',\n",
       "  'dont',\n",
       "  'like',\n",
       "  'removed']}"
      ]
     },
     "execution_count": 124,
     "metadata": {},
     "output_type": "execute_result"
    }
   ],
   "source": [
    "gs_tf.best_params_"
   ]
  },
  {
   "cell_type": "markdown",
   "metadata": {},
   "source": [
    "The Logistic Regression model + TfidfVectorizer doesn't perform nearly as well on the training data as the LR model + Countvectorizer. However, we observe much less variance in this model. When tuning we removed max and min df and observed a significant decrease in variance in the model. In an attempt to find the sweet spot of trade off between high variance and high bias we decided to leave these parameters out. \n",
    "\n",
    "We also observe this model using 2 gram features as it is able to pick up more complex phrases. \n",
    "\n",
    "\n",
    "The score is still well above our baseline model but the scoring is probably not as high as we need to achieve the desired accuaracy rate of 85%."
   ]
  },
  {
   "cell_type": "markdown",
   "metadata": {},
   "source": [
    "## GaussianNB model"
   ]
  },
  {
   "cell_type": "code",
   "execution_count": 126,
   "metadata": {},
   "outputs": [],
   "source": [
    "#Referenced from dsi_11-NYC FAQ\n",
    "class DenseTransformer(TransformerMixin):\n",
    "    def fit(self, X, y=None, **fit_params):\n",
    "        return self\n",
    "\n",
    "    def transform(self, X, y=None, **fit_params):\n",
    "        return X.toarray()"
   ]
  },
  {
   "cell_type": "code",
   "execution_count": 127,
   "metadata": {},
   "outputs": [],
   "source": [
    "cvec_gnb = [\n",
    "    (\"cvec\", CountVectorizer()),\n",
    "    (\"dense\", DenseTransformer()),\n",
    "    (\"gauss\", GaussianNB())\n",
    "]\n",
    "\n",
    "cvec_paramsgnb = {\n",
    "    'cvec__max_features': [500, 1000 , 1500],\n",
    "    'cvec__ngram_range': [(1,1), (1,2)],\n",
    "    'cvec__stop_words': [None, 'english', stopwords],\n",
    "     'gauss__var_smoothing': [1e-8]}\n",
    "\n",
    "\n",
    "pipegnb = Pipeline(cvec_gnb)\n",
    "\n",
    "cvec_guasNB = GridSearchCV(pipegnb, cvec_paramsgnb, cv = 5)"
   ]
  },
  {
   "cell_type": "code",
   "execution_count": 128,
   "metadata": {},
   "outputs": [
    {
     "data": {
      "text/plain": [
       "GridSearchCV(cv=5, error_score=nan,\n",
       "             estimator=Pipeline(memory=None,\n",
       "                                steps=[('cvec',\n",
       "                                        CountVectorizer(analyzer='word',\n",
       "                                                        binary=False,\n",
       "                                                        decode_error='strict',\n",
       "                                                        dtype=<class 'numpy.int64'>,\n",
       "                                                        encoding='utf-8',\n",
       "                                                        input='content',\n",
       "                                                        lowercase=True,\n",
       "                                                        max_df=1.0,\n",
       "                                                        max_features=None,\n",
       "                                                        min_df=1,\n",
       "                                                        ngram_range=(1, 1),\n",
       "                                                        preprocessor=None,\n",
       "                                                        stop_words=None,\n",
       "                                                        strip_accents=None,\n",
       "                                                        token_pattern='(?u)...\n",
       "                         'cvec__stop_words': [None, 'english',\n",
       "                                              ['i', 'me', 'my', 'myself', 'we',\n",
       "                                               'our', 'ours', 'ourselves',\n",
       "                                               'you', \"you're\", \"you've\",\n",
       "                                               \"you'll\", \"you'd\", 'your',\n",
       "                                               'yours', 'yourself',\n",
       "                                               'yourselves', 'he', 'him', 'his',\n",
       "                                               'himself', 'she', \"she's\", 'her',\n",
       "                                               'hers', 'herself', 'it', \"it's\",\n",
       "                                               'its', 'itself', ...]],\n",
       "                         'gauss__var_smoothing': [1e-08]},\n",
       "             pre_dispatch='2*n_jobs', refit=True, return_train_score=False,\n",
       "             scoring=None, verbose=0)"
      ]
     },
     "execution_count": 128,
     "metadata": {},
     "output_type": "execute_result"
    }
   ],
   "source": [
    "cvec_guasNB.fit(X_train, y_train)"
   ]
  },
  {
   "cell_type": "code",
   "execution_count": 129,
   "metadata": {},
   "outputs": [
    {
     "name": "stdout",
     "output_type": "stream",
     "text": [
      "Training set accuracy: 0.8515\n",
      "Testing set accuracy: 0.7767\n",
      "Cross-val accuracy: 0.7960\n"
     ]
    }
   ],
   "source": [
    "print('Training set accuracy: {:.4f}'.format(cvec_guasNB.score(X_train, y_train)))\n",
    "print('Testing set accuracy: {:.4f}'.format(cvec_guasNB.score(X_test, y_test)))\n",
    "print('Cross-val accuracy: {:.4f}'.format(cvec_guasNB.best_score_))"
   ]
  },
  {
   "cell_type": "markdown",
   "metadata": {},
   "source": [
    "In the Gaussian model we see an increase in training score in comparison to the LR TfidfVectorizer model but a decrease in the testing score. We again removed max and min df as it was causing too much variance in the model. \n",
    "\n",
    "We also observe it is only taking into account one gram words, demonstrating it is not as likely to pick up on more complex phrases or combinations of words. \n",
    "\n",
    "It also returns None as the best parameter for stop words which we did not anticipate. "
   ]
  },
  {
   "cell_type": "markdown",
   "metadata": {},
   "source": [
    "### Gaussian Naive Bayes + TfIDF Vectorizer"
   ]
  },
  {
   "cell_type": "code",
   "execution_count": 130,
   "metadata": {},
   "outputs": [],
   "source": [
    "tvec_gnb = [\n",
    "    (\"tvec\", TfidfVectorizer()),\n",
    "    (\"dense\", DenseTransformer()),\n",
    "    (\"gauss\", GaussianNB())\n",
    "]\n",
    "\n",
    "tvec_paramsgnb = {\n",
    "    'tvec__max_features': [500, 1000 , 1500],\n",
    "    'tvec__ngram_range': [(1,1), (1,2)],\n",
    "    'tvec__stop_words': [None, 'english', stopwords],\n",
    "    'gauss__var_smoothing': [1e-8]}\n",
    "\n",
    "\n",
    "pipegnb1 = Pipeline(tvec_gnb)\n",
    "\n",
    "tvec_guasNB = GridSearchCV(pipegnb1, tvec_paramsgnb, cv = 5)"
   ]
  },
  {
   "cell_type": "code",
   "execution_count": 131,
   "metadata": {},
   "outputs": [
    {
     "data": {
      "text/plain": [
       "GridSearchCV(cv=5, error_score=nan,\n",
       "             estimator=Pipeline(memory=None,\n",
       "                                steps=[('tvec',\n",
       "                                        TfidfVectorizer(analyzer='word',\n",
       "                                                        binary=False,\n",
       "                                                        decode_error='strict',\n",
       "                                                        dtype=<class 'numpy.float64'>,\n",
       "                                                        encoding='utf-8',\n",
       "                                                        input='content',\n",
       "                                                        lowercase=True,\n",
       "                                                        max_df=1.0,\n",
       "                                                        max_features=None,\n",
       "                                                        min_df=1,\n",
       "                                                        ngram_range=(1, 1),\n",
       "                                                        norm='l2',\n",
       "                                                        preprocessor=None,\n",
       "                                                        smooth_idf=True,\n",
       "                                                        stop_words=None,\n",
       "                                                        strip_acce...\n",
       "                         'tvec__stop_words': [None, 'english',\n",
       "                                              ['i', 'me', 'my', 'myself', 'we',\n",
       "                                               'our', 'ours', 'ourselves',\n",
       "                                               'you', \"you're\", \"you've\",\n",
       "                                               \"you'll\", \"you'd\", 'your',\n",
       "                                               'yours', 'yourself',\n",
       "                                               'yourselves', 'he', 'him', 'his',\n",
       "                                               'himself', 'she', \"she's\", 'her',\n",
       "                                               'hers', 'herself', 'it', \"it's\",\n",
       "                                               'its', 'itself', ...]]},\n",
       "             pre_dispatch='2*n_jobs', refit=True, return_train_score=False,\n",
       "             scoring=None, verbose=0)"
      ]
     },
     "execution_count": 131,
     "metadata": {},
     "output_type": "execute_result"
    }
   ],
   "source": [
    "tvec_guasNB.fit(X_train, y_train)"
   ]
  },
  {
   "cell_type": "code",
   "execution_count": 133,
   "metadata": {},
   "outputs": [
    {
     "name": "stdout",
     "output_type": "stream",
     "text": [
      "Training set accuracy: 0.8752\n",
      "Testing set accuracy: 0.8103\n",
      "Cross-val accuracy: 0.8205\n"
     ]
    }
   ],
   "source": [
    "print('Training set accuracy: {:.4f}'.format(tvec_guasNB.score(X_train, y_train)))\n",
    "print('Testing set accuracy: {:.4f}'.format(tvec_guasNB.score(X_test, y_test)))\n",
    "print('Cross-val accuracy: {:.4f}'.format(tvec_guasNB.best_score_))"
   ]
  },
  {
   "cell_type": "code",
   "execution_count": 134,
   "metadata": {},
   "outputs": [
    {
     "data": {
      "text/plain": [
       "{'gauss__var_smoothing': 1e-08,\n",
       " 'tvec__max_features': 500,\n",
       " 'tvec__ngram_range': (1, 2),\n",
       " 'tvec__stop_words': ['i',\n",
       "  'me',\n",
       "  'my',\n",
       "  'myself',\n",
       "  'we',\n",
       "  'our',\n",
       "  'ours',\n",
       "  'ourselves',\n",
       "  'you',\n",
       "  \"you're\",\n",
       "  \"you've\",\n",
       "  \"you'll\",\n",
       "  \"you'd\",\n",
       "  'your',\n",
       "  'yours',\n",
       "  'yourself',\n",
       "  'yourselves',\n",
       "  'he',\n",
       "  'him',\n",
       "  'his',\n",
       "  'himself',\n",
       "  'she',\n",
       "  \"she's\",\n",
       "  'her',\n",
       "  'hers',\n",
       "  'herself',\n",
       "  'it',\n",
       "  \"it's\",\n",
       "  'its',\n",
       "  'itself',\n",
       "  'they',\n",
       "  'them',\n",
       "  'their',\n",
       "  'theirs',\n",
       "  'themselves',\n",
       "  'what',\n",
       "  'which',\n",
       "  'who',\n",
       "  'whom',\n",
       "  'this',\n",
       "  'that',\n",
       "  \"that'll\",\n",
       "  'these',\n",
       "  'those',\n",
       "  'am',\n",
       "  'is',\n",
       "  'are',\n",
       "  'was',\n",
       "  'were',\n",
       "  'be',\n",
       "  'been',\n",
       "  'being',\n",
       "  'have',\n",
       "  'has',\n",
       "  'had',\n",
       "  'having',\n",
       "  'do',\n",
       "  'does',\n",
       "  'did',\n",
       "  'doing',\n",
       "  'a',\n",
       "  'an',\n",
       "  'the',\n",
       "  'and',\n",
       "  'but',\n",
       "  'if',\n",
       "  'or',\n",
       "  'because',\n",
       "  'as',\n",
       "  'until',\n",
       "  'while',\n",
       "  'of',\n",
       "  'at',\n",
       "  'by',\n",
       "  'for',\n",
       "  'with',\n",
       "  'about',\n",
       "  'against',\n",
       "  'between',\n",
       "  'into',\n",
       "  'through',\n",
       "  'during',\n",
       "  'before',\n",
       "  'after',\n",
       "  'above',\n",
       "  'below',\n",
       "  'to',\n",
       "  'from',\n",
       "  'up',\n",
       "  'down',\n",
       "  'in',\n",
       "  'out',\n",
       "  'on',\n",
       "  'off',\n",
       "  'over',\n",
       "  'under',\n",
       "  'again',\n",
       "  'further',\n",
       "  'then',\n",
       "  'once',\n",
       "  'here',\n",
       "  'there',\n",
       "  'when',\n",
       "  'where',\n",
       "  'why',\n",
       "  'how',\n",
       "  'all',\n",
       "  'any',\n",
       "  'both',\n",
       "  'each',\n",
       "  'few',\n",
       "  'more',\n",
       "  'most',\n",
       "  'other',\n",
       "  'some',\n",
       "  'such',\n",
       "  'no',\n",
       "  'nor',\n",
       "  'not',\n",
       "  'only',\n",
       "  'own',\n",
       "  'same',\n",
       "  'so',\n",
       "  'than',\n",
       "  'too',\n",
       "  'very',\n",
       "  's',\n",
       "  't',\n",
       "  'can',\n",
       "  'will',\n",
       "  'just',\n",
       "  'don',\n",
       "  \"don't\",\n",
       "  'should',\n",
       "  \"should've\",\n",
       "  'now',\n",
       "  'd',\n",
       "  'll',\n",
       "  'm',\n",
       "  'o',\n",
       "  're',\n",
       "  've',\n",
       "  'y',\n",
       "  'ain',\n",
       "  'aren',\n",
       "  \"aren't\",\n",
       "  'couldn',\n",
       "  \"couldn't\",\n",
       "  'didn',\n",
       "  \"didn't\",\n",
       "  'doesn',\n",
       "  \"doesn't\",\n",
       "  'hadn',\n",
       "  \"hadn't\",\n",
       "  'hasn',\n",
       "  \"hasn't\",\n",
       "  'haven',\n",
       "  \"haven't\",\n",
       "  'isn',\n",
       "  \"isn't\",\n",
       "  'ma',\n",
       "  'mightn',\n",
       "  \"mightn't\",\n",
       "  'mustn',\n",
       "  \"mustn't\",\n",
       "  'needn',\n",
       "  \"needn't\",\n",
       "  'shan',\n",
       "  \"shan't\",\n",
       "  'shouldn',\n",
       "  \"shouldn't\",\n",
       "  'wasn',\n",
       "  \"wasn't\",\n",
       "  'weren',\n",
       "  \"weren't\",\n",
       "  'won',\n",
       "  \"won't\",\n",
       "  'wouldn',\n",
       "  \"wouldn't\",\n",
       "  'ive',\n",
       "  '00',\n",
       "  'im',\n",
       "  'just',\n",
       "  'know',\n",
       "  'like',\n",
       "  'does',\n",
       "  'dont',\n",
       "  'like',\n",
       "  'removed']}"
      ]
     },
     "execution_count": 134,
     "metadata": {},
     "output_type": "execute_result"
    }
   ],
   "source": [
    "tvec_guasNB.best_params_"
   ]
  },
  {
   "cell_type": "markdown",
   "metadata": {},
   "source": [
    "In the Gaussian + TfidfVectorizer model we see an increase in score in realtion to the previous model (Gaussian + CoutVectorizer) but observe the similar amount of variance in our model. \n",
    "\n",
    "The model does show 2 gram words as the best pararmeter for n gram range, which suggest it can identify more complexity in our word features. \n",
    "\n",
    "Again we observe None as the best parameter for stopwords. "
   ]
  },
  {
   "cell_type": "markdown",
   "metadata": {},
   "source": [
    "#### Multinomial Naive Bayes w/ CountVectorizer "
   ]
  },
  {
   "cell_type": "code",
   "execution_count": 137,
   "metadata": {},
   "outputs": [],
   "source": [
    "multinomialnb = [\n",
    "    (\"cvec\", CountVectorizer()),\n",
    "    (\"mult\", MultinomialNB())\n",
    "]\n",
    "mb_params = {\n",
    "    'cvec__max_features': [500, 1000, 1500],\n",
    "    'cvec__min_df': [5],\n",
    "    'cvec__max_df': [.8],\n",
    "    'cvec__ngram_range': [(1,1), (1,2)],\n",
    "    'cvec__stop_words': [None, 'english', stopwords],\n",
    "    'mult__alpha':[2],\n",
    "    'mult__fit_prior':[True],\n",
    "    'mult__class_prior':[None]\n",
    "}\n",
    "\n",
    "\n",
    "pipemnb = Pipeline(multinomialnb )\n",
    "\n",
    "cvec_mnb = GridSearchCV(pipemnb, mb_params, cv = 5)"
   ]
  },
  {
   "cell_type": "code",
   "execution_count": 138,
   "metadata": {},
   "outputs": [
    {
     "data": {
      "text/plain": [
       "GridSearchCV(cv=5, error_score=nan,\n",
       "             estimator=Pipeline(memory=None,\n",
       "                                steps=[('cvec',\n",
       "                                        CountVectorizer(analyzer='word',\n",
       "                                                        binary=False,\n",
       "                                                        decode_error='strict',\n",
       "                                                        dtype=<class 'numpy.int64'>,\n",
       "                                                        encoding='utf-8',\n",
       "                                                        input='content',\n",
       "                                                        lowercase=True,\n",
       "                                                        max_df=1.0,\n",
       "                                                        max_features=None,\n",
       "                                                        min_df=1,\n",
       "                                                        ngram_range=(1, 1),\n",
       "                                                        preprocessor=None,\n",
       "                                                        stop_words=None,\n",
       "                                                        strip_accents=None,\n",
       "                                                        token_pattern='(?u)...\n",
       "                                               'our', 'ours', 'ourselves',\n",
       "                                               'you', \"you're\", \"you've\",\n",
       "                                               \"you'll\", \"you'd\", 'your',\n",
       "                                               'yours', 'yourself',\n",
       "                                               'yourselves', 'he', 'him', 'his',\n",
       "                                               'himself', 'she', \"she's\", 'her',\n",
       "                                               'hers', 'herself', 'it', \"it's\",\n",
       "                                               'its', 'itself', ...]],\n",
       "                         'mult__alpha': [2], 'mult__class_prior': [None],\n",
       "                         'mult__fit_prior': [True]},\n",
       "             pre_dispatch='2*n_jobs', refit=True, return_train_score=False,\n",
       "             scoring=None, verbose=0)"
      ]
     },
     "execution_count": 138,
     "metadata": {},
     "output_type": "execute_result"
    }
   ],
   "source": [
    "cvec_mnb.fit(X_train, y_train)"
   ]
  },
  {
   "cell_type": "code",
   "execution_count": 139,
   "metadata": {},
   "outputs": [
    {
     "name": "stdout",
     "output_type": "stream",
     "text": [
      "Training set accuracy: 0.8568\n",
      "Testing set accuracy: 0.8103\n",
      "Cross-val accuracy: 0.8409\n"
     ]
    }
   ],
   "source": [
    "print('Training set accuracy: {:.4f}'.format(cvec_mnb.score(X_train, y_train)))\n",
    "print('Testing set accuracy: {:.4f}'.format(cvec_mnb.score(X_test, y_test)))\n",
    "print('Cross-val accuracy: {:.4f}'.format(cvec_mnb.best_score_))"
   ]
  },
  {
   "cell_type": "code",
   "execution_count": 140,
   "metadata": {},
   "outputs": [
    {
     "data": {
      "text/plain": [
       "{'cvec__max_df': 0.8,\n",
       " 'cvec__max_features': 500,\n",
       " 'cvec__min_df': 5,\n",
       " 'cvec__ngram_range': (1, 1),\n",
       " 'cvec__stop_words': 'english',\n",
       " 'mult__alpha': 2,\n",
       " 'mult__class_prior': None,\n",
       " 'mult__fit_prior': True}"
      ]
     },
     "execution_count": 140,
     "metadata": {},
     "output_type": "execute_result"
    }
   ],
   "source": [
    "cvec_mnb.best_params_"
   ]
  },
  {
   "cell_type": "markdown",
   "metadata": {},
   "source": [
    "The Multinomial Naive Bayes + CountVectorizer  model continues the pattern we have observed thus far. Training scores in the mid to high eighties (with the exception of the LR + Countvectorizer model) but has a lower training score. We have included min and max df again as the score was higher and the variance was lower in the model as there was not as great of difference between the training and testing score. \n",
    "\n",
    "Model identifies the custom stopwords list as the best parameter. "
   ]
  },
  {
   "cell_type": "code",
   "execution_count": 147,
   "metadata": {},
   "outputs": [],
   "source": [
    "multinomialtf = [\n",
    "    (\"tvec\", TfidfVectorizer()),\n",
    "    (\"mult\", MultinomialNB())\n",
    "]\n",
    "multitf_params = {\n",
    "    'tvec__max_features': [500, 1000, 1500],\n",
    "    'tvec__min_df': [5],\n",
    "    'tvec__max_df': [.75],\n",
    "    'tvec__ngram_range': [(1,1), (1,2)],\n",
    "    'tvec__stop_words': [None, 'english', stopwords]\n",
    "}\n",
    "\n",
    "\n",
    "pipemntf = Pipeline(multinomialtf )\n",
    "\n",
    "tvec_mnb = GridSearchCV(pipemntf, multitf_params, cv = 5)"
   ]
  },
  {
   "cell_type": "code",
   "execution_count": 148,
   "metadata": {},
   "outputs": [
    {
     "data": {
      "text/plain": [
       "GridSearchCV(cv=5, error_score=nan,\n",
       "             estimator=Pipeline(memory=None,\n",
       "                                steps=[('tvec',\n",
       "                                        TfidfVectorizer(analyzer='word',\n",
       "                                                        binary=False,\n",
       "                                                        decode_error='strict',\n",
       "                                                        dtype=<class 'numpy.float64'>,\n",
       "                                                        encoding='utf-8',\n",
       "                                                        input='content',\n",
       "                                                        lowercase=True,\n",
       "                                                        max_df=1.0,\n",
       "                                                        max_features=None,\n",
       "                                                        min_df=1,\n",
       "                                                        ngram_range=(1, 1),\n",
       "                                                        norm='l2',\n",
       "                                                        preprocessor=None,\n",
       "                                                        smooth_idf=True,\n",
       "                                                        stop_words=None,\n",
       "                                                        strip_acce...\n",
       "                         'tvec__stop_words': [None, 'english',\n",
       "                                              ['i', 'me', 'my', 'myself', 'we',\n",
       "                                               'our', 'ours', 'ourselves',\n",
       "                                               'you', \"you're\", \"you've\",\n",
       "                                               \"you'll\", \"you'd\", 'your',\n",
       "                                               'yours', 'yourself',\n",
       "                                               'yourselves', 'he', 'him', 'his',\n",
       "                                               'himself', 'she', \"she's\", 'her',\n",
       "                                               'hers', 'herself', 'it', \"it's\",\n",
       "                                               'its', 'itself', ...]]},\n",
       "             pre_dispatch='2*n_jobs', refit=True, return_train_score=False,\n",
       "             scoring=None, verbose=0)"
      ]
     },
     "execution_count": 148,
     "metadata": {},
     "output_type": "execute_result"
    }
   ],
   "source": [
    "tvec_mnb.fit(X_train, y_train)"
   ]
  },
  {
   "cell_type": "code",
   "execution_count": 149,
   "metadata": {},
   "outputs": [
    {
     "name": "stdout",
     "output_type": "stream",
     "text": [
      "Training set accuracy: 0.8832\n",
      "Testing set accuracy: 0.8261\n",
      "Cross-val accuracy: 0.8442\n"
     ]
    }
   ],
   "source": [
    "print('Training set accuracy: {:.4f}'.format(tvec_mnb.score(X_train, y_train)))\n",
    "print('Testing set accuracy: {:.4f}'.format(tvec_mnb.score(X_test, y_test)))\n",
    "print('Cross-val accuracy: {:.4f}'.format(tvec_mnb.best_score_))"
   ]
  },
  {
   "cell_type": "code",
   "execution_count": 150,
   "metadata": {},
   "outputs": [
    {
     "data": {
      "text/plain": [
       "{'tvec__max_df': 0.75,\n",
       " 'tvec__max_features': 1000,\n",
       " 'tvec__min_df': 5,\n",
       " 'tvec__ngram_range': (1, 1),\n",
       " 'tvec__stop_words': 'english'}"
      ]
     },
     "execution_count": 150,
     "metadata": {},
     "output_type": "execute_result"
    }
   ],
   "source": [
    "tvec_mnb.best_params_"
   ]
  },
  {
   "cell_type": "markdown",
   "metadata": {},
   "source": [
    "## Model Selection"
   ]
  },
  {
   "cell_type": "markdown",
   "metadata": {},
   "source": [
    "Multinomial Naive Bayes model + TfidfVectorizer scores slightly better than our MNB + TfidfVectorizer. The hyperparameters opitmized here are the english or standard stopwords and 1 gram words. Overall it seems models using TfidfVectorizer performed better in respect to training socre. We observed higher scores (with the exception of one outlier, LR+CV model). However, we observed the same amout of variance in each of the models using TfidfVectorizer."
   ]
  },
  {
   "cell_type": "markdown",
   "metadata": {},
   "source": [
    "We will be looking at accuracy scores to select the best performing model. However, we want to evalute the Logistic Regression model for interprability by evaluating the coefficients to see the importance of words or combination of words to our target variable"
   ]
  },
  {
   "cell_type": "markdown",
   "metadata": {},
   "source": [
    "## Model Evaluation"
   ]
  },
  {
   "cell_type": "code",
   "execution_count": 151,
   "metadata": {},
   "outputs": [],
   "source": [
    "def confusion_matrix_plot(y_test, y_pred):\n",
    "    # handling data\n",
    "    cm = confusion_matrix(y_test, y_pred)\n",
    "    labels = y_test.unique()\n",
    "    labels.sort()\n",
    "    \n",
    "    # plotting\n",
    "    sns.set(font_scale=1.2)\n",
    "    plt.figure(figsize=(10,4))\n",
    "    \n",
    "    sns.heatmap(cm, annot=True, fmt='g', cmap=\"YlGnBu\",xticklabels=labels, yticklabels=labels, annot_kws={\"size\": 20})\n",
    "    plt.title(\"Confusion Matrix\")\n",
    "    plt.xlabel('Predicted Class')\n",
    "    plt.ylabel('True Class')"
   ]
  },
  {
   "cell_type": "code",
   "execution_count": 154,
   "metadata": {},
   "outputs": [
    {
     "name": "stdout",
     "output_type": "stream",
     "text": [
      "True Negatives:  196\n",
      "\n",
      "False Positives:  62\n",
      "\n",
      "False Negatives:  28\n",
      "\n",
      "True Positives:  220\n"
     ]
    }
   ],
   "source": []
  },
  {
   "cell_type": "code",
   "execution_count": 155,
   "metadata": {},
   "outputs": [
    {
     "data": {
      "image/png": "[encoded data removed]",
      "text/plain": [
       "<Figure size 720x288 with 2 Axes>"
      ]
     },
     "metadata": {},
     "output_type": "display_data"
    }
   ],
   "source": [
    "confusion_matrix_plot(y_test, gs_tf.predict(X_test))"
   ]
  },
  {
   "cell_type": "markdown",
   "metadata": {},
   "source": [
    "#### Selecting a model"
   ]
  },
  {
   "cell_type": "markdown",
   "metadata": {},
   "source": [
    "The best performing model was the Logistic Regression + TfidfVectorizer model. It achieved the highest accuracy score of 82.4%. However, it only perfoms slightly better than the rest of the models as the lowest score of the six modesl was 78.6% and all accuracy scores but one were above 80%. All of the models perfomed much better than the baseline model as we had anticipated. This model does standout because it had the lowest variance with training and testing scores being 84% & 82.4%. A spread between these scores of less than 2% was better than all other models in comparison which averaged about 7% and included one outlier with a difference in training and testing scores of 16%.\n",
    "\n",
    "It is somewhat surprising that the Logistic Regression model performed the best. We had anticipated one of the Naive Bayes models to perform better as one of the strengths of that type of model is text classification. We were also surprised to see that some models optimized for the custom stopwords, the standard 'english' stopwords, and even no stopwords at all. This seemed to have little affect on the performance of the model. However, we did see some consistency when using Tfidfvectorizer as this usually selected for 2 gram words showing it could identify more complex word combinations. "
   ]
  },
  {
   "cell_type": "markdown",
   "metadata": {},
   "source": [
    "## Coefficinets "
   ]
  },
  {
   "cell_type": "markdown",
   "metadata": {},
   "source": [
    "The coefficient relates to the relationship between the predictors and the target variable. In this case the target is the subreddit type (r/Investing, r/Bogleheads)\n",
    "\n",
    "The best performing model Logistic Regression + CountVectorizer is an interpretable model and we can evaluate the coefficients from the model to understand what words or combinations of words are when predicting which subreddit these words are associated with. During our EDA process there were certain words that we believed had a stronger relation to each subreddit. The coefficients of our model will now quantify the relation of those words to each subreddit."
   ]
  },
  {
   "cell_type": "code",
   "execution_count": 176,
   "metadata": {},
   "outputs": [],
   "source": [
    "word_coefs = pd.DataFrame(gs_tf.best_estimator_.named_steps['lr'].coef_.T,\n",
    "                         index = gs_tf.best_estimator_.named_steps[\"tvec\"].get_feature_names()).sort_values(0)"
   ]
  },
  {
   "cell_type": "code",
   "execution_count": 177,
   "metadata": {},
   "outputs": [],
   "source": [
    "bogle_coefs = pd.DataFrame(word_coefs[:20])\n",
    "investing_coefs = pd.DataFrame(word_coefs[-20:].sort_values(0, ascending = False))"
   ]
  },
  {
   "cell_type": "code",
   "execution_count": 178,
   "metadata": {},
   "outputs": [],
   "source": [
    "investing_coefs.columns=['Coef']"
   ]
  },
  {
   "cell_type": "code",
   "execution_count": 179,
   "metadata": {},
   "outputs": [
    {
     "data": {
      "text/html": [
       "<div>\n",
       "<style scoped>\n",
       "    .dataframe tbody tr th:only-of-type {\n",
       "        vertical-align: middle;\n",
       "    }\n",
       "\n",
       "    .dataframe tbody tr th {\n",
       "        vertical-align: top;\n",
       "    }\n",
       "\n",
       "    .dataframe thead th {\n",
       "        text-align: right;\n",
       "    }\n",
       "</style>\n",
       "<table border=\"1\" class=\"dataframe\">\n",
       "  <thead>\n",
       "    <tr style=\"text-align: right;\">\n",
       "      <th></th>\n",
       "      <th>Coef</th>\n",
       "    </tr>\n",
       "  </thead>\n",
       "  <tbody>\n",
       "    <tr>\n",
       "      <th>trading</th>\n",
       "      <td>1.934806</td>\n",
       "    </tr>\n",
       "    <tr>\n",
       "      <th>company</th>\n",
       "      <td>1.753240</td>\n",
       "    </tr>\n",
       "    <tr>\n",
       "      <th>stock</th>\n",
       "      <td>1.749674</td>\n",
       "    </tr>\n",
       "    <tr>\n",
       "      <th>coronavirus</th>\n",
       "      <td>1.737463</td>\n",
       "    </tr>\n",
       "    <tr>\n",
       "      <th>stocks</th>\n",
       "      <td>1.639637</td>\n",
       "    </tr>\n",
       "    <tr>\n",
       "      <th>companies</th>\n",
       "      <td>1.619570</td>\n",
       "    </tr>\n",
       "    <tr>\n",
       "      <th>oil</th>\n",
       "      <td>1.226193</td>\n",
       "    </tr>\n",
       "    <tr>\n",
       "      <th>gold</th>\n",
       "      <td>1.185060</td>\n",
       "    </tr>\n",
       "    <tr>\n",
       "      <th>price</th>\n",
       "      <td>1.152586</td>\n",
       "    </tr>\n",
       "    <tr>\n",
       "      <th>robinhood</th>\n",
       "      <td>1.137419</td>\n",
       "    </tr>\n",
       "    <tr>\n",
       "      <th>today</th>\n",
       "      <td>1.100384</td>\n",
       "    </tr>\n",
       "    <tr>\n",
       "      <th>buy</th>\n",
       "      <td>1.076249</td>\n",
       "    </tr>\n",
       "    <tr>\n",
       "      <th>share</th>\n",
       "      <td>1.070318</td>\n",
       "    </tr>\n",
       "    <tr>\n",
       "      <th>earnings</th>\n",
       "      <td>1.067560</td>\n",
       "    </tr>\n",
       "    <tr>\n",
       "      <th>bottom</th>\n",
       "      <td>1.049515</td>\n",
       "    </tr>\n",
       "    <tr>\n",
       "      <th>trade</th>\n",
       "      <td>1.011436</td>\n",
       "    </tr>\n",
       "    <tr>\n",
       "      <th>crash</th>\n",
       "      <td>0.997686</td>\n",
       "    </tr>\n",
       "    <tr>\n",
       "      <th>covid</th>\n",
       "      <td>0.938522</td>\n",
       "    </tr>\n",
       "    <tr>\n",
       "      <th>whats</th>\n",
       "      <td>0.899030</td>\n",
       "    </tr>\n",
       "    <tr>\n",
       "      <th>spy</th>\n",
       "      <td>0.892699</td>\n",
       "    </tr>\n",
       "  </tbody>\n",
       "</table>\n",
       "</div>"
      ],
      "text/plain": [
       "                 Coef\n",
       "trading      1.934806\n",
       "company      1.753240\n",
       "stock        1.749674\n",
       "coronavirus  1.737463\n",
       "stocks       1.639637\n",
       "companies    1.619570\n",
       "oil          1.226193\n",
       "gold         1.185060\n",
       "price        1.152586\n",
       "robinhood    1.137419\n",
       "today        1.100384\n",
       "buy          1.076249\n",
       "share        1.070318\n",
       "earnings     1.067560\n",
       "bottom       1.049515\n",
       "trade        1.011436\n",
       "crash        0.997686\n",
       "covid        0.938522\n",
       "whats        0.899030\n",
       "spy          0.892699"
      ]
     },
     "execution_count": 179,
     "metadata": {},
     "output_type": "execute_result"
    }
   ],
   "source": [
    "investing_coefs"
   ]
  },
  {
   "cell_type": "markdown",
   "metadata": {},
   "source": [
    "#### r/Investing Coefficients"
   ]
  },
  {
   "cell_type": "markdown",
   "metadata": {},
   "source": [
    "The highest coefficeint in r/Investing is 1.9348 for the word 'trading'. This means that for a one unit increase of the appearence of the word 'trading' in a post, an post is \n",
    "\n",
    "The highest coefficients observed in the r/Investing are words that are related to general investment advice and strategy and focus more on individual stock picking. Thhe top word is trading which we do not observe in the top 20 coefficients of the r/Bogelhead list. We observe other general investing words like company and stock which would indicate people discussing indivdual stocks as opposed to index funds or ETFs which are very popular in r/Bogleheads. Coronavirus also makes an appearence on this list as this has had a drastic impact recently on the stock market and is greatly affecting the stock market in the short term. Bogleheads are more focused on long term growth and may not be concerned about the short term affects of the coronavirus on the market. "
   ]
  },
  {
   "cell_type": "code",
   "execution_count": 180,
   "metadata": {},
   "outputs": [],
   "source": [
    "bogle_coefs.columns=['Coef']"
   ]
  },
  {
   "cell_type": "code",
   "execution_count": 174,
   "metadata": {},
   "outputs": [],
   "source": [
    "bogle_coefs = bogle_coefs['Coef']"
   ]
  },
  {
   "cell_type": "code",
   "execution_count": 181,
   "metadata": {},
   "outputs": [],
   "source": [
    "bogle_coefs = pd.DataFrame(bogle_coefs)"
   ]
  },
  {
   "cell_type": "code",
   "execution_count": 182,
   "metadata": {},
   "outputs": [
    {
     "data": {
      "text/html": [
       "<div>\n",
       "<style scoped>\n",
       "    .dataframe tbody tr th:only-of-type {\n",
       "        vertical-align: middle;\n",
       "    }\n",
       "\n",
       "    .dataframe tbody tr th {\n",
       "        vertical-align: top;\n",
       "    }\n",
       "\n",
       "    .dataframe thead th {\n",
       "        text-align: right;\n",
       "    }\n",
       "</style>\n",
       "<table border=\"1\" class=\"dataframe\">\n",
       "  <thead>\n",
       "    <tr style=\"text-align: right;\">\n",
       "      <th></th>\n",
       "      <th>Coef</th>\n",
       "    </tr>\n",
       "  </thead>\n",
       "  <tbody>\n",
       "    <tr>\n",
       "      <th>vanguard</th>\n",
       "      <td>-4.414316</td>\n",
       "    </tr>\n",
       "    <tr>\n",
       "      <th>fund</th>\n",
       "      <td>-3.245636</td>\n",
       "    </tr>\n",
       "    <tr>\n",
       "      <th>vti</th>\n",
       "      <td>-2.590815</td>\n",
       "    </tr>\n",
       "    <tr>\n",
       "      <th>vtsax</th>\n",
       "      <td>-2.540271</td>\n",
       "    </tr>\n",
       "    <tr>\n",
       "      <th>funds</th>\n",
       "      <td>-2.186849</td>\n",
       "    </tr>\n",
       "    <tr>\n",
       "      <th>index</th>\n",
       "      <td>-2.131146</td>\n",
       "    </tr>\n",
       "    <tr>\n",
       "      <th>ira</th>\n",
       "      <td>-2.078820</td>\n",
       "    </tr>\n",
       "    <tr>\n",
       "      <th>bogleheads</th>\n",
       "      <td>-1.939169</td>\n",
       "    </tr>\n",
       "    <tr>\n",
       "      <th>portfolio</th>\n",
       "      <td>-1.876537</td>\n",
       "    </tr>\n",
       "    <tr>\n",
       "      <th>roth</th>\n",
       "      <td>-1.819128</td>\n",
       "    </tr>\n",
       "    <tr>\n",
       "      <th>retirement</th>\n",
       "      <td>-1.580904</td>\n",
       "    </tr>\n",
       "    <tr>\n",
       "      <th>rebalance</th>\n",
       "      <td>-1.473427</td>\n",
       "    </tr>\n",
       "    <tr>\n",
       "      <th>fund portfolio</th>\n",
       "      <td>-1.394224</td>\n",
       "    </tr>\n",
       "    <tr>\n",
       "      <th>taxable</th>\n",
       "      <td>-1.367835</td>\n",
       "    </tr>\n",
       "    <tr>\n",
       "      <th>international</th>\n",
       "      <td>-1.317253</td>\n",
       "    </tr>\n",
       "    <tr>\n",
       "      <th>bond</th>\n",
       "      <td>-1.311627</td>\n",
       "    </tr>\n",
       "    <tr>\n",
       "      <th>accounts</th>\n",
       "      <td>-1.283404</td>\n",
       "    </tr>\n",
       "    <tr>\n",
       "      <th>boglehead</th>\n",
       "      <td>-1.276332</td>\n",
       "    </tr>\n",
       "    <tr>\n",
       "      <th>bonds</th>\n",
       "      <td>-1.266806</td>\n",
       "    </tr>\n",
       "    <tr>\n",
       "      <th>jack</th>\n",
       "      <td>-1.158751</td>\n",
       "    </tr>\n",
       "  </tbody>\n",
       "</table>\n",
       "</div>"
      ],
      "text/plain": [
       "                    Coef\n",
       "vanguard       -4.414316\n",
       "fund           -3.245636\n",
       "vti            -2.590815\n",
       "vtsax          -2.540271\n",
       "funds          -2.186849\n",
       "index          -2.131146\n",
       "ira            -2.078820\n",
       "bogleheads     -1.939169\n",
       "portfolio      -1.876537\n",
       "roth           -1.819128\n",
       "retirement     -1.580904\n",
       "rebalance      -1.473427\n",
       "fund portfolio -1.394224\n",
       "taxable        -1.367835\n",
       "international  -1.317253\n",
       "bond           -1.311627\n",
       "accounts       -1.283404\n",
       "boglehead      -1.276332\n",
       "bonds          -1.266806\n",
       "jack           -1.158751"
      ]
     },
     "execution_count": 182,
     "metadata": {},
     "output_type": "execute_result"
    }
   ],
   "source": [
    "bogle_coefs"
   ]
  },
  {
   "cell_type": "markdown",
   "metadata": {},
   "source": [
    "#### r/Bogleheads Coefficients"
   ]
  },
  {
   "cell_type": "markdown",
   "metadata": {},
   "source": [
    "The coefficients of the top words in r/Bogleheads show greater correalation than the words in r/Investing. The highest coefficent for r/Bogleheads is Vanguard. The other top words here relate to index funds and this list also includes the word bogleheads itself, as this is what subscribers of r/Boglehead refer to themselves as. This list is consisent with what we had anticipated. Based on the syle of investing r/Boglehead follows the words with the highest coefficients relate to index funds. We observe the name of two specific index funds, VTI and VTSAX which are both total market funds and are very popular with passive investors. Other words in the list include words related to retirment accounts (ira, roth, retirement)."
   ]
  },
  {
   "cell_type": "markdown",
   "metadata": {},
   "source": [
    "#### Misclassifications "
   ]
  },
  {
   "cell_type": "code",
   "execution_count": 170,
   "metadata": {},
   "outputs": [
    {
     "ename": "NameError",
     "evalue": "name 'y_pred' is not defined",
     "output_type": "error",
     "traceback": [
      "\u001b[0;31m---------------------------------------------------------------------------\u001b[0m",
      "\u001b[0;31mNameError\u001b[0m                                 Traceback (most recent call last)",
      "\u001b[0;32m<ipython-input-170-d7323bbc0581>\u001b[0m in \u001b[0;36m<module>\u001b[0;34m\u001b[0m\n\u001b[1;32m      4\u001b[0m     \u001b[0;34m'X_test'\u001b[0m\u001b[0;34m:\u001b[0m \u001b[0mX_test\u001b[0m\u001b[0;34m,\u001b[0m\u001b[0;34m\u001b[0m\u001b[0;34m\u001b[0m\u001b[0m\n\u001b[1;32m      5\u001b[0m     \u001b[0;34m'y_test'\u001b[0m\u001b[0;34m:\u001b[0m \u001b[0my_test\u001b[0m\u001b[0;34m,\u001b[0m\u001b[0;34m\u001b[0m\u001b[0;34m\u001b[0m\u001b[0m\n\u001b[0;32m----> 6\u001b[0;31m     \u001b[0;34m'y_pred'\u001b[0m\u001b[0;34m:\u001b[0m \u001b[0my_pred\u001b[0m\u001b[0;34m\u001b[0m\u001b[0;34m\u001b[0m\u001b[0m\n\u001b[0m\u001b[1;32m      7\u001b[0m })\n\u001b[1;32m      8\u001b[0m \u001b[0;34m\u001b[0m\u001b[0m\n",
      "\u001b[0;31mNameError\u001b[0m: name 'y_pred' is not defined"
     ]
    }
   ],
   "source": [
    "#Create dataframe to look at misclassifications \n",
    "df_pred = pd.DataFrame({\n",
    "\n",
    "    'X_test': X_test,\n",
    "    'y_test': y_test,\n",
    "    'y_pred': y_pred\n",
    "})\n",
    "\n",
    "misclassifications = df_pred[df_pred['y_test'] != df_pred['y_pred']]"
   ]
  },
  {
   "cell_type": "code",
   "execution_count": null,
   "metadata": {},
   "outputs": [],
   "source": [
    "#evaluate misclassifcations to gain a better understanding as to why these posts/titles were not predicted correctly\n",
    "print(misclassifications)"
   ]
  },
  {
   "cell_type": "code",
   "execution_count": null,
   "metadata": {},
   "outputs": [],
   "source": [
    "#identify misclassified posts for additoinal analysis\n",
    "for post in df_pred[(df_pred.y_test - df_pred.y_pred) == 1]['X_test']:\n",
    "    print(post)"
   ]
  },
  {
   "cell_type": "markdown",
   "metadata": {},
   "source": [
    "#### Overlap of Words"
   ]
  },
  {
   "cell_type": "markdown",
   "metadata": {},
   "source": [
    " Due to there being so much overlap in investing terms it makes sense that misclassification can happen. There are many investing terms like 'index', 'fund', 'investing', 'market', 'stocks', etc. that appear so frequently between the two subreddits misclassifciaton is bound to happen. There are a few unique words to r/Bogleheads that appear with greater frequency but there will always be posts that don't include these words. The unique words from r/Bogleheads like 'vti', 'vtsax', 'vym' are products that are sold by Vanguard but it is not uncommon for the average investor to hold some of these index funds, in fact they are quite common in the investing world. If these words which we could consider r/Boglehead words appear in r/investing misclassification is more likely to happen. "
   ]
  },
  {
   "cell_type": "markdown",
   "metadata": {},
   "source": [
    "misclassified as r/investing \n",
    "\n",
    "\"what is the purpose of dbc in all weather portfolio historical performance for dbc which i understand isnt everything is quite lackluster  i just dont fundamentally understand what value the commodity allocation has to this overall portfolio\"\n",
    "\n",
    "This is a short post and doesn't offer too many features for the model to take into consideration. It also it doesn't have many features that have a high coefficient to r/Bogleheads. Because the similarities in the two subreddits misclassification is bound to happen at some points, especially on shorter posts. \n"
   ]
  },
  {
   "cell_type": "markdown",
   "metadata": {},
   "source": [
    "Misclassified as r/Bogleheads\n",
    "\n",
    "“Vti voo voog i want to buy all is that a bad idea im young and all stocks”\n",
    "\n",
    "\n",
    "This posts references a number of Vanguard products that have high coefficients to r/Bogleheads. However, it is not uncommon for the average investor to hold these funds in their portfolio. These misclassificaiton posts tend to result from overlap in the two subreddits. They are both foucsed on investing advice so we are going to observe the use of many of the same terms and even financial products. "
   ]
  },
  {
   "cell_type": "markdown",
   "metadata": {},
   "source": [
    "## Conclusion "
   ]
  },
  {
   "cell_type": "markdown",
   "metadata": {},
   "source": [
    "Unfortunately we did not achieve the goal of 85% accuracy for our model. In hindsight it was naive to think r/Bogleheads offered investing advice that was that much different than r/Investing. Investing can be complicated and there are many differnent terms and investment products that could differentiate investing styles but for the most part investors are going to simliar asset classes (stocks, bonds, commodities) to invest their money. Many investment products (VTI, VTSAX) are extremely popular for the average investor and not just bought by a niche group of investors who follow specific investing advice. \n",
    "\n",
    "In preprocessing we took the necessary steps to remove frequently occuring words by identifying these words and adding them to the standard stop words list. This was in attempt to to reduce their affect on the model. However, when looking at the model performance we did not observe consistency in the model using this as the ideal parameter. Sometimes the model used the stopword list other times it did not. This did not seem to have as big of an impact we had originally thought. \n",
    "\n",
    "The best performing model was the Logistic Regression Model + TfidfVectorizer which achieved an accuracy score of 85%. This model was observed to be low variance as it had less than a 2% difference between the training score and testing score. However, this score was close but not good enough and we will have to review our workflow from the beginning to see if any improvements can be made that will achieve a better result. \n"
   ]
  },
  {
   "cell_type": "markdown",
   "metadata": {},
   "source": [
    "## Recommendations"
   ]
  },
  {
   "cell_type": "markdown",
   "metadata": {},
   "source": [
    "The reduced scope date when pulling data from r/Investing most likely helped in our performance. This is due to a higher occurence of words on short term market activity. Coronavirus appered high in the coefficients for r/investing because this has been an ongoing topic and it is greatly affecting the stock market. If we had equal scope dates we most likely we observe a decrease in the occurence of this word dating back to last year. Do work toward a better performing model we should take scope date of data into consideration. We did not need to attempt to have balanced classes as this is not how data exists in the real world. \n",
    "\n",
    "Create more models, a limited approach was taking this time and we were unable to compare the models we used to other models such as KNN, Random Forest, or Decision Tree. This limited our results and we may have had a better performing model if we used something else. \n",
    "\n"
   ]
  },
  {
   "cell_type": "markdown",
   "metadata": {},
   "source": [
    "## References"
   ]
  },
  {
   "cell_type": "markdown",
   "metadata": {},
   "source": [
    "Investopdiea, James Chenn, Jan,2016 https://www.investopedia.com/terms/j/john_bogle.asp"
   ]
  }
 ],
 "metadata": {
  "kernelspec": {
   "display_name": "Python 3",
   "language": "python",
   "name": "python3"
  },
  "language_info": {
   "codemirror_mode": {
    "name": "ipython",
    "version": 3
   },
   "file_extension": ".py",
   "mimetype": "text/x-python",
   "name": "python",
   "nbconvert_exporter": "python",
   "pygments_lexer": "ipython3",
   "version": "3.7.4"
  }
 },
 "nbformat": 4,
 "nbformat_minor": 2
}
