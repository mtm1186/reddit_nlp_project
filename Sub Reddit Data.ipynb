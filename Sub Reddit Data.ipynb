{
 "cells": [
  {
   "cell_type": "code",
   "execution_count": 46,
   "metadata": {},
   "outputs": [],
   "source": [
    "import pandas as pd\n",
    "import datetime as dt\n",
    "import time\n",
    "import requests"
   ]
  },
  {
   "cell_type": "code",
   "execution_count": 158,
   "metadata": {},
   "outputs": [],
   "source": [
    "def query_pushshift(subreddit, kind = 'submission', day_window = 30, n = 2):\n",
    "    SUBFIELDS = ['title', 'selftext', 'subreddit', 'created_utc', 'author', 'num_comments', 'score', 'is_self']\n",
    "    \n",
    "    # establish base url and stem\n",
    "    BASE_URL = f\"https://api.pushshift.io/reddit/search/{kind}\" # also known as the \"API endpoint\" \n",
    "    stem = f\"{BASE_URL}?subreddit={subreddit}&size=500\" # always pulling max of 500\n",
    "    \n",
    "    # instantiate empty list for temp storage\n",
    "    posts = []\n",
    "    \n",
    "    # implement for loop with `time.sleep(2)`\n",
    "    for i in range(1, n + 1):\n",
    "        URL = \"{}&after={}d\".format(stem, day_window * i)\n",
    "        print(\"Querying from: \" + URL)\n",
    "        response = requests.get(URL)\n",
    "        assert response.status_code == 200\n",
    "        mine = response.json()['data']\n",
    "        df = pd.DataFrame.from_dict(mine)\n",
    "        posts.append(df)\n",
    "        time.sleep(2)\n",
    "    \n",
    "    # pd.concat storage list\n",
    "    full = pd.concat(posts, sort=False)\n",
    "    \n",
    "    # if submission\n",
    "    if kind == \"submission\":\n",
    "        # select desired columns\n",
    "        full = full[SUBFIELDS]\n",
    "        # drop duplicates\n",
    "        full.drop_duplicates(inplace = True)\n",
    "        # select `is_self` == True\n",
    "        full = full.loc[full['is_self'] == True]\n",
    "\n",
    "    # create `timestamp` column\n",
    "    full['timestamp'] = full[\"created_utc\"].map(dt.date.fromtimestamp)\n",
    "    \n",
    "    print(\"Query Complete!\")    \n",
    "    return full "
   ]
  },
  {
   "cell_type": "code",
   "execution_count": 159,
   "metadata": {},
   "outputs": [
    {
     "name": "stdout",
     "output_type": "stream",
     "text": [
      "Querying from: https://api.pushshift.io/reddit/search/submission?subreddit=investing&size=500&after=30d\n",
      "Querying from: https://api.pushshift.io/reddit/search/submission?subreddit=investing&size=500&after=60d\n",
      "Query Complete!\n"
     ]
    }
   ],
   "source": [
    "investing = query_pushshift('investing')"
   ]
  },
  {
   "cell_type": "code",
   "execution_count": 156,
   "metadata": {},
   "outputs": [
    {
     "name": "stdout",
     "output_type": "stream",
     "text": [
      "Querying from: https://api.pushshift.io/reddit/search/submission?subreddit=Bogleheads&size=500&after=30d\n",
      "Querying from: https://api.pushshift.io/reddit/search/submission?subreddit=Bogleheads&size=500&after=60d\n",
      "Querying from: https://api.pushshift.io/reddit/search/submission?subreddit=Bogleheads&size=500&after=90d\n",
      "Querying from: https://api.pushshift.io/reddit/search/submission?subreddit=Bogleheads&size=500&after=120d\n",
      "Querying from: https://api.pushshift.io/reddit/search/submission?subreddit=Bogleheads&size=500&after=150d\n",
      "Querying from: https://api.pushshift.io/reddit/search/submission?subreddit=Bogleheads&size=500&after=180d\n",
      "Querying from: https://api.pushshift.io/reddit/search/submission?subreddit=Bogleheads&size=500&after=210d\n",
      "Querying from: https://api.pushshift.io/reddit/search/submission?subreddit=Bogleheads&size=500&after=240d\n",
      "Querying from: https://api.pushshift.io/reddit/search/submission?subreddit=Bogleheads&size=500&after=270d\n",
      "Querying from: https://api.pushshift.io/reddit/search/submission?subreddit=Bogleheads&size=500&after=300d\n",
      "Querying from: https://api.pushshift.io/reddit/search/submission?subreddit=Bogleheads&size=500&after=330d\n",
      "Querying from: https://api.pushshift.io/reddit/search/submission?subreddit=Bogleheads&size=500&after=360d\n",
      "Querying from: https://api.pushshift.io/reddit/search/submission?subreddit=Bogleheads&size=500&after=390d\n",
      "Querying from: https://api.pushshift.io/reddit/search/submission?subreddit=Bogleheads&size=500&after=420d\n",
      "Querying from: https://api.pushshift.io/reddit/search/submission?subreddit=Bogleheads&size=500&after=450d\n",
      "Querying from: https://api.pushshift.io/reddit/search/submission?subreddit=Bogleheads&size=500&after=480d\n",
      "Querying from: https://api.pushshift.io/reddit/search/submission?subreddit=Bogleheads&size=500&after=510d\n",
      "Querying from: https://api.pushshift.io/reddit/search/submission?subreddit=Bogleheads&size=500&after=540d\n",
      "Querying from: https://api.pushshift.io/reddit/search/submission?subreddit=Bogleheads&size=500&after=570d\n",
      "Querying from: https://api.pushshift.io/reddit/search/submission?subreddit=Bogleheads&size=500&after=600d\n",
      "Querying from: https://api.pushshift.io/reddit/search/submission?subreddit=Bogleheads&size=500&after=630d\n",
      "Querying from: https://api.pushshift.io/reddit/search/submission?subreddit=Bogleheads&size=500&after=660d\n",
      "Query Complete!\n"
     ]
    }
   ],
   "source": [
    "bogleheads = query_pushshift('Bogleheads')"
   ]
  },
  {
   "cell_type": "markdown",
   "metadata": {},
   "source": [
    "r/Investing and r/Bogleheads are asymmetrical in size. I had to adjust the number of iterations to achieve equal data sets for the two subreddits. After much consdieraton I decided that having such different timeframes for the two is ok as the two mainly discuss investing fundamentals and the idea of \"staying the course\" in investing. If these had been subreddits dedicated to growth stocks or short term gains it may have had a greater affect on my results. "
   ]
  },
  {
   "cell_type": "code",
   "execution_count": 157,
   "metadata": {},
   "outputs": [
    {
     "data": {
      "text/plain": [
       "(1029, 9)"
      ]
     },
     "execution_count": 157,
     "metadata": {},
     "output_type": "execute_result"
    }
   ],
   "source": [
    "#extended query to go back (make sure the two subreddits are balanced). \n",
    "bogleheads.shape"
   ]
  },
  {
   "cell_type": "code",
   "execution_count": 160,
   "metadata": {},
   "outputs": [
    {
     "data": {
      "text/plain": [
       "(1000, 9)"
      ]
     },
     "execution_count": 160,
     "metadata": {},
     "output_type": "execute_result"
    }
   ],
   "source": [
    "investing.shape"
   ]
  },
  {
   "cell_type": "code",
   "execution_count": 161,
   "metadata": {},
   "outputs": [
    {
     "data": {
      "text/html": [
       "<div>\n",
       "<style scoped>\n",
       "    .dataframe tbody tr th:only-of-type {\n",
       "        vertical-align: middle;\n",
       "    }\n",
       "\n",
       "    .dataframe tbody tr th {\n",
       "        vertical-align: top;\n",
       "    }\n",
       "\n",
       "    .dataframe thead th {\n",
       "        text-align: right;\n",
       "    }\n",
       "</style>\n",
       "<table border=\"1\" class=\"dataframe\">\n",
       "  <thead>\n",
       "    <tr style=\"text-align: right;\">\n",
       "      <th></th>\n",
       "      <th>title</th>\n",
       "      <th>selftext</th>\n",
       "      <th>subreddit</th>\n",
       "      <th>created_utc</th>\n",
       "      <th>author</th>\n",
       "      <th>num_comments</th>\n",
       "      <th>score</th>\n",
       "      <th>is_self</th>\n",
       "      <th>timestamp</th>\n",
       "    </tr>\n",
       "  </thead>\n",
       "  <tbody>\n",
       "    <tr>\n",
       "      <th>0</th>\n",
       "      <td>Free market capitalism, I’m Gen Z and honestly...</td>\n",
       "      <td>[removed]</td>\n",
       "      <td>investing</td>\n",
       "      <td>1584573611</td>\n",
       "      <td>KellyCriterionHedged</td>\n",
       "      <td>13</td>\n",
       "      <td>0</td>\n",
       "      <td>True</td>\n",
       "      <td>2020-03-18</td>\n",
       "    </tr>\n",
       "    <tr>\n",
       "      <th>1</th>\n",
       "      <td>Tell me why I shouldn’t purchase a substantial...</td>\n",
       "      <td>[deleted]</td>\n",
       "      <td>investing</td>\n",
       "      <td>1584573629</td>\n",
       "      <td>[deleted]</td>\n",
       "      <td>10</td>\n",
       "      <td>1</td>\n",
       "      <td>True</td>\n",
       "      <td>2020-03-18</td>\n",
       "    </tr>\n",
       "    <tr>\n",
       "      <th>2</th>\n",
       "      <td>Can my 401k retirement account trigger a wash ...</td>\n",
       "      <td>Hypothetical scenario:\\n\\nI am looking to sell...</td>\n",
       "      <td>investing</td>\n",
       "      <td>1584573685</td>\n",
       "      <td>philosophytautology</td>\n",
       "      <td>9</td>\n",
       "      <td>0</td>\n",
       "      <td>True</td>\n",
       "      <td>2020-03-18</td>\n",
       "    </tr>\n",
       "    <tr>\n",
       "      <th>3</th>\n",
       "      <td>GILD.. The DD is in the link... FDA message to...</td>\n",
       "      <td>\\n\\nThe DD is in the link.. Why the fuck shou...</td>\n",
       "      <td>investing</td>\n",
       "      <td>1584573694</td>\n",
       "      <td>TawALittlePuttyTat</td>\n",
       "      <td>2</td>\n",
       "      <td>0</td>\n",
       "      <td>True</td>\n",
       "      <td>2020-03-18</td>\n",
       "    </tr>\n",
       "    <tr>\n",
       "      <th>4</th>\n",
       "      <td>Good time to invest?</td>\n",
       "      <td>Do y'all think there will be a raise in the ma...</td>\n",
       "      <td>investing</td>\n",
       "      <td>1584573941</td>\n",
       "      <td>rcmiddle</td>\n",
       "      <td>10</td>\n",
       "      <td>0</td>\n",
       "      <td>True</td>\n",
       "      <td>2020-03-18</td>\n",
       "    </tr>\n",
       "  </tbody>\n",
       "</table>\n",
       "</div>"
      ],
      "text/plain": [
       "                                               title  \\\n",
       "0  Free market capitalism, I’m Gen Z and honestly...   \n",
       "1  Tell me why I shouldn’t purchase a substantial...   \n",
       "2  Can my 401k retirement account trigger a wash ...   \n",
       "3  GILD.. The DD is in the link... FDA message to...   \n",
       "4                               Good time to invest?   \n",
       "\n",
       "                                            selftext  subreddit  created_utc  \\\n",
       "0                                          [removed]  investing   1584573611   \n",
       "1                                          [deleted]  investing   1584573629   \n",
       "2  Hypothetical scenario:\\n\\nI am looking to sell...  investing   1584573685   \n",
       "3   \\n\\nThe DD is in the link.. Why the fuck shou...  investing   1584573694   \n",
       "4  Do y'all think there will be a raise in the ma...  investing   1584573941   \n",
       "\n",
       "                 author  num_comments  score  is_self   timestamp  \n",
       "0  KellyCriterionHedged            13      0     True  2020-03-18  \n",
       "1             [deleted]            10      1     True  2020-03-18  \n",
       "2   philosophytautology             9      0     True  2020-03-18  \n",
       "3    TawALittlePuttyTat             2      0     True  2020-03-18  \n",
       "4              rcmiddle            10      0     True  2020-03-18  "
      ]
     },
     "execution_count": 161,
     "metadata": {},
     "output_type": "execute_result"
    }
   ],
   "source": [
    "investing.head()"
   ]
  },
  {
   "cell_type": "code",
   "execution_count": 135,
   "metadata": {},
   "outputs": [
    {
     "data": {
      "text/html": [
       "<div>\n",
       "<style scoped>\n",
       "    .dataframe tbody tr th:only-of-type {\n",
       "        vertical-align: middle;\n",
       "    }\n",
       "\n",
       "    .dataframe tbody tr th {\n",
       "        vertical-align: top;\n",
       "    }\n",
       "\n",
       "    .dataframe thead th {\n",
       "        text-align: right;\n",
       "    }\n",
       "</style>\n",
       "<table border=\"1\" class=\"dataframe\">\n",
       "  <thead>\n",
       "    <tr style=\"text-align: right;\">\n",
       "      <th></th>\n",
       "      <th>title</th>\n",
       "      <th>selftext</th>\n",
       "      <th>subreddit</th>\n",
       "      <th>created_utc</th>\n",
       "      <th>author</th>\n",
       "      <th>num_comments</th>\n",
       "      <th>score</th>\n",
       "      <th>is_self</th>\n",
       "      <th>timestamp</th>\n",
       "    </tr>\n",
       "  </thead>\n",
       "  <tbody>\n",
       "    <tr>\n",
       "      <th>0</th>\n",
       "      <td>25 year old with extra $10k in a bear market</td>\n",
       "      <td>I’m a 25 year old who set aside $10k earlier i...</td>\n",
       "      <td>Bogleheads</td>\n",
       "      <td>1584458843</td>\n",
       "      <td>cjone236</td>\n",
       "      <td>21</td>\n",
       "      <td>1</td>\n",
       "      <td>True</td>\n",
       "      <td>2020-03-17</td>\n",
       "    </tr>\n",
       "    <tr>\n",
       "      <th>1</th>\n",
       "      <td>This is what Jack Bogle said in 2011 during th...</td>\n",
       "      <td>I was doing some reading today and came across...</td>\n",
       "      <td>Bogleheads</td>\n",
       "      <td>1584486268</td>\n",
       "      <td>logicson</td>\n",
       "      <td>44</td>\n",
       "      <td>3</td>\n",
       "      <td>True</td>\n",
       "      <td>2020-03-17</td>\n",
       "    </tr>\n",
       "    <tr>\n",
       "      <th>2</th>\n",
       "      <td>27 year old 80% in VCAIX - time to ramp up DCA...</td>\n",
       "      <td>Lazy investor wanting to eventually get to an ...</td>\n",
       "      <td>Bogleheads</td>\n",
       "      <td>1584557617</td>\n",
       "      <td>Jacks_Tortoise</td>\n",
       "      <td>7</td>\n",
       "      <td>1</td>\n",
       "      <td>True</td>\n",
       "      <td>2020-03-18</td>\n",
       "    </tr>\n",
       "    <tr>\n",
       "      <th>3</th>\n",
       "      <td>How do you all resist the temptation to buy in...</td>\n",
       "      <td>I've been a Boglehead for a few years now and ...</td>\n",
       "      <td>Bogleheads</td>\n",
       "      <td>1584569244</td>\n",
       "      <td>SwoleBuddha</td>\n",
       "      <td>74</td>\n",
       "      <td>3</td>\n",
       "      <td>True</td>\n",
       "      <td>2020-03-18</td>\n",
       "    </tr>\n",
       "    <tr>\n",
       "      <th>4</th>\n",
       "      <td>Anyone lose their job and ready to sell everyt...</td>\n",
       "      <td>400,000k is better than no k</td>\n",
       "      <td>Bogleheads</td>\n",
       "      <td>1584576682</td>\n",
       "      <td>Dodge1992</td>\n",
       "      <td>11</td>\n",
       "      <td>3</td>\n",
       "      <td>True</td>\n",
       "      <td>2020-03-18</td>\n",
       "    </tr>\n",
       "  </tbody>\n",
       "</table>\n",
       "</div>"
      ],
      "text/plain": [
       "                                               title  \\\n",
       "0       25 year old with extra $10k in a bear market   \n",
       "1  This is what Jack Bogle said in 2011 during th...   \n",
       "2  27 year old 80% in VCAIX - time to ramp up DCA...   \n",
       "3  How do you all resist the temptation to buy in...   \n",
       "4  Anyone lose their job and ready to sell everyt...   \n",
       "\n",
       "                                            selftext   subreddit  created_utc  \\\n",
       "0  I’m a 25 year old who set aside $10k earlier i...  Bogleheads   1584458843   \n",
       "1  I was doing some reading today and came across...  Bogleheads   1584486268   \n",
       "2  Lazy investor wanting to eventually get to an ...  Bogleheads   1584557617   \n",
       "3  I've been a Boglehead for a few years now and ...  Bogleheads   1584569244   \n",
       "4                       400,000k is better than no k  Bogleheads   1584576682   \n",
       "\n",
       "           author  num_comments  score  is_self   timestamp  \n",
       "0        cjone236            21      1     True  2020-03-17  \n",
       "1        logicson            44      3     True  2020-03-17  \n",
       "2  Jacks_Tortoise             7      1     True  2020-03-18  \n",
       "3     SwoleBuddha            74      3     True  2020-03-18  \n",
       "4       Dodge1992            11      3     True  2020-03-18  "
      ]
     },
     "execution_count": 135,
     "metadata": {},
     "output_type": "execute_result"
    }
   ],
   "source": [
    "bogleheads.head()"
   ]
  },
  {
   "cell_type": "code",
   "execution_count": 166,
   "metadata": {},
   "outputs": [],
   "source": [
    "df_reddit = pd.concat(objs = [investing, bogleheads], ignore_index = True )"
   ]
  },
  {
   "cell_type": "code",
   "execution_count": 170,
   "metadata": {},
   "outputs": [
    {
     "data": {
      "text/plain": [
       "(2029, 9)"
      ]
     },
     "execution_count": 170,
     "metadata": {},
     "output_type": "execute_result"
    }
   ],
   "source": [
    "df_reddit.shape"
   ]
  },
  {
   "cell_type": "code",
   "execution_count": 171,
   "metadata": {},
   "outputs": [],
   "source": [
    "df_reddit.to_csv('./data/df_reddit.csv', index = False)"
   ]
  }
 ],
 "metadata": {
  "kernelspec": {
   "display_name": "Python 3",
   "language": "python",
   "name": "python3"
  },
  "language_info": {
   "codemirror_mode": {
    "name": "ipython",
    "version": 3
   },
   "file_extension": ".py",
   "mimetype": "text/x-python",
   "name": "python",
   "nbconvert_exporter": "python",
   "pygments_lexer": "ipython3",
   "version": "3.7.4"
  }
 },
 "nbformat": 4,
 "nbformat_minor": 2
}
